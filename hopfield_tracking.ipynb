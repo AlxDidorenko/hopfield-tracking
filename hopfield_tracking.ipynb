{
  "nbformat": 4,
  "nbformat_minor": 0,
  "metadata": {
    "colab": {
      "name": "hopfield-tracking",
      "provenance": [],
      "collapsed_sections": [],
      "toc_visible": true
    },
    "kernelspec": {
      "display_name": "Python 3",
      "name": "python3"
    }
  },
  "cells": [
    {
      "cell_type": "code",
      "metadata": {
        "id": "Bm55HkfjcxnN"
      },
      "source": [
        "import matplotlib.pyplot as plt\n",
        "import numpy as np"
      ],
      "execution_count": null,
      "outputs": []
    },
    {
      "cell_type": "code",
      "metadata": {
        "id": "cU8wQpykrhUG"
      },
      "source": [
        "from torch import tensor, Tensor, matmul, diag, ones, zeros, cdist, inner, einsum, tensordot\n",
        "import torch"
      ],
      "execution_count": null,
      "outputs": []
    },
    {
      "cell_type": "code",
      "metadata": {
        "id": "M6pbe3i7TLAW"
      },
      "source": [
        "my_float = torch.float32"
      ],
      "execution_count": null,
      "outputs": []
    },
    {
      "cell_type": "code",
      "metadata": {
        "colab": {
          "base_uri": "https://localhost:8080/"
        },
        "id": "9eaA4uwhz0Qy",
        "outputId": "4ff5c36d-e82a-43ca-c7e1-846153a29b77"
      },
      "source": [
        "layer1 = tensor([[0,0], [0,1], [0, 2]], dtype=my_float)\n",
        "layer2 = tensor([[1,0], [1, 2]], dtype=my_float)\n",
        "layer3 = tensor([[2,0], [2,1], [2, 2]], dtype=my_float)\n",
        "layer1"
      ],
      "execution_count": null,
      "outputs": [
        {
          "output_type": "execute_result",
          "data": {
            "text/plain": [
              "tensor([[0., 0.],\n",
              "        [0., 1.],\n",
              "        [0., 2.]])"
            ]
          },
          "metadata": {
            "tags": []
          },
          "execution_count": 128
        }
      ]
    },
    {
      "cell_type": "code",
      "metadata": {
        "colab": {
          "base_uri": "https://localhost:8080/"
        },
        "id": "sMYXcRBgv-ZI",
        "outputId": "00db8933-0bef-4b2e-828a-c01a5de65064"
      },
      "source": [
        "cdist(layer1, layer3)"
      ],
      "execution_count": null,
      "outputs": [
        {
          "output_type": "execute_result",
          "data": {
            "text/plain": [
              "tensor([[2.0000, 2.2361, 2.8284],\n",
              "        [2.2361, 2.0000, 2.2361],\n",
              "        [2.8284, 2.2361, 2.0000]])"
            ]
          },
          "metadata": {
            "tags": []
          },
          "execution_count": 129
        }
      ]
    },
    {
      "cell_type": "code",
      "metadata": {
        "colab": {
          "base_uri": "https://localhost:8080/"
        },
        "id": "DqcqkaQhLpo-",
        "outputId": "de361592-e24b-45e8-b420-8d926e3a5187"
      },
      "source": [
        "cdist(layer2, layer3)"
      ],
      "execution_count": null,
      "outputs": [
        {
          "output_type": "execute_result",
          "data": {
            "text/plain": [
              "tensor([[1.0000, 1.4142, 2.2361],\n",
              "        [2.2361, 1.4142, 1.0000]])"
            ]
          },
          "metadata": {
            "tags": []
          },
          "execution_count": 130
        }
      ]
    },
    {
      "cell_type": "code",
      "metadata": {
        "colab": {
          "base_uri": "https://localhost:8080/"
        },
        "id": "dQ5euJHwzWF4",
        "outputId": "931517a5-495f-40a9-901c-522e9fc744a0"
      },
      "source": [
        "def cosines(a: Tensor, b: Tensor, c: Tensor) -> Tensor:\n",
        "  r1 = cdist(a, b) #ij\n",
        "  r2 = cdist(b, c) #jk\n",
        "  d1 = b[None, :, :] - a[:, None, :] # ijc\n",
        "  d2 = c[None, :, :] - b[:, None, :] # jkc\n",
        "  rr = r1[:, :, None] * r2[None, :, :]\n",
        "  return einsum('ijc,jkc->ijk', d1, d2) / rr\n",
        "\n",
        "cosines(layer1, layer2, layer3)"
      ],
      "execution_count": null,
      "outputs": [
        {
          "output_type": "execute_result",
          "data": {
            "text/plain": [
              "tensor([[[ 1.0000,  0.7071,  0.4472],\n",
              "         [-0.6000, -0.3162,  0.4472]],\n",
              "\n",
              "        [[ 0.7071,  0.0000, -0.3162],\n",
              "         [-0.3162,  0.0000,  0.7071]],\n",
              "\n",
              "        [[ 0.4472, -0.3162, -0.6000],\n",
              "         [ 0.4472,  0.7071,  1.0000]]])"
            ]
          },
          "metadata": {
            "tags": []
          },
          "execution_count": 131
        }
      ]
    },
    {
      "cell_type": "code",
      "metadata": {
        "colab": {
          "base_uri": "https://localhost:8080/"
        },
        "id": "zNewLSi7WcKB",
        "outputId": "d79d31ed-41cc-45e4-8a39-9d6da9ff9550"
      },
      "source": [
        "from typing import Callable\n",
        "\n",
        "M = 2\n",
        "\n",
        "def curvature(a: Tensor, b: Tensor, c: Tensor) -> Callable[[Tensor, Tensor],Tensor]:\n",
        "  r1 = cdist(a, b) #ij\n",
        "  r2 = cdist(b, c) #jk\n",
        "  d1 = b[None, :, :] - a[:, None, :] # ijc\n",
        "  d2 = c[None, :, :] - b[:, None, :] # jkc\n",
        "  rr = r1[:, :, None] * r2[None, :, :]\n",
        "\n",
        "  def inner(v1: Tensor, v2: Tensor) -> Tensor:\n",
        "    cosines = einsum('ijc,jkc->ijk', d1, d2) / rr\n",
        "    return - 0.5 * ( torch.pow(cosines, M) * v1[:,:,None] * v2[None,:,:] / rr).sum()\n",
        "  return inner\n",
        "\n",
        "f = curvature(layer1, layer2, layer3)\n",
        "[\n",
        "  f(zeros((3,2)), zeros(2,3)),\n",
        "  f(ones((3,2)), ones(2,3)),\n",
        "  f(zeros((3,2)), ones(2,3)),\n",
        "  f(ones((3,2)), zeros(2,3))\n",
        "],"
      ],
      "execution_count": null,
      "outputs": [
        {
          "output_type": "execute_result",
          "data": {
            "text/plain": [
              "([tensor(-0.), tensor(-2.0212), tensor(-0.), tensor(-0.)],)"
            ]
          },
          "metadata": {
            "tags": []
          },
          "execution_count": 132
        }
      ]
    },
    {
      "cell_type": "code",
      "metadata": {
        "id": "ez-bSSLzS0uv"
      },
      "source": [
        "v1 = ones(3,2, requires_grad=True)\n",
        "v2 = ones(2,3, requires_grad=True)"
      ],
      "execution_count": null,
      "outputs": []
    },
    {
      "cell_type": "code",
      "metadata": {
        "id": "l8OjySZsTAVM"
      },
      "source": [
        "curvature(layer1, layer2, layer3)(v1, v2).backward()"
      ],
      "execution_count": null,
      "outputs": []
    },
    {
      "cell_type": "code",
      "metadata": {
        "colab": {
          "base_uri": "https://localhost:8080/"
        },
        "id": "EJsjPREPYQ0N",
        "outputId": "3d186190-8b75-4db2-8e9e-d1d0986ede69"
      },
      "source": [
        "v1.grad"
      ],
      "execution_count": null,
      "outputs": [
        {
          "output_type": "execute_result",
          "data": {
            "text/plain": [
              "tensor([[-0.7215, -0.0965],\n",
              "        [-0.1926, -0.1926],\n",
              "        [-0.0965, -0.7215]])"
            ]
          },
          "metadata": {
            "tags": []
          },
          "execution_count": 135
        }
      ]
    },
    {
      "cell_type": "code",
      "metadata": {
        "colab": {
          "base_uri": "https://localhost:8080/"
        },
        "id": "EQ9t_TpwZEU7",
        "outputId": "731d9662-7e0e-4840-ee24-bfce8114b206"
      },
      "source": [
        "v2.grad"
      ],
      "execution_count": null,
      "outputs": [
        {
          "output_type": "execute_result",
          "data": {
            "text/plain": [
              "tensor([[-0.7215, -0.1926, -0.0965],\n",
              "        [-0.0965, -0.1926, -0.7215]])"
            ]
          },
          "metadata": {
            "tags": []
          },
          "execution_count": 136
        }
      ]
    },
    {
      "cell_type": "code",
      "metadata": {
        "colab": {
          "base_uri": "https://localhost:8080/"
        },
        "id": "9TyXkUDee-6d",
        "outputId": "fcf16e40-8e50-4b4f-87f1-56bfd36111bd"
      },
      "source": [
        "beta = 3.\n",
        "def T2(a, b, c):\n",
        "  N = len(a) + len(b) + len(c)\n",
        "  def inner(v1, v2):\n",
        "    return beta * torch.square(0.5 * (v1.sum() + v2.sum() - N))\n",
        "  return inner\n",
        "T1(layer1, layer2, layer3)(v1, v2)"
      ],
      "execution_count": null,
      "outputs": [
        {
          "output_type": "execute_result",
          "data": {
            "text/plain": [
              "tensor(1.1309, grad_fn=<MulBackward0>)"
            ]
          },
          "metadata": {
            "tags": []
          },
          "execution_count": 177
        }
      ]
    },
    {
      "cell_type": "code",
      "metadata": {
        "colab": {
          "base_uri": "https://localhost:8080/"
        },
        "id": "DHINzZwGuRyZ",
        "outputId": "f4ff85d0-e3cf-4522-cc5a-9d0d4dfd3bd7"
      },
      "source": [
        "alpha = 0.2\n",
        "def T1(a, b, c):\n",
        "  def inner(v1, v2):\n",
        "    return alpha/2 * (tensordot(v1, v1, [[0], [0]]).sum() - tensordot(v1, v1, 2) +\n",
        "                      tensordot(v1, v1, [[1], [1]]).sum() - tensordot(v1, v1, 2) +\n",
        "                      tensordot(v2, v2, [[0], [0]]).sum() - tensordot(v2, v2, 2) +\n",
        "                      tensordot(v2, v2, [[1], [1]]).sum() - tensordot(v2, v2, 2))\n",
        "  return inner\n",
        "T1(layer1, layer2, layer3)(v1, v2)"
      ],
      "execution_count": null,
      "outputs": [
        {
          "output_type": "execute_result",
          "data": {
            "text/plain": [
              "tensor(1.1309, grad_fn=<MulBackward0>)"
            ]
          },
          "metadata": {
            "tags": []
          },
          "execution_count": 178
        }
      ]
    },
    {
      "cell_type": "code",
      "metadata": {
        "colab": {
          "base_uri": "https://localhost:8080/"
        },
        "id": "4tzWmzBopd3A",
        "outputId": "82f2072a-370e-431a-cdbd-b8b6bb24bc73"
      },
      "source": [
        "v1 = torch.full((3, 2), 1., requires_grad=True)\n",
        "v2 = torch.full((2, 3), 1., requires_grad=True)\n",
        "T1(layer1, layer2, layer3)(v1, v2).backward()\n",
        "v2.grad"
      ],
      "execution_count": null,
      "outputs": [
        {
          "output_type": "execute_result",
          "data": {
            "text/plain": [
              "tensor([[0.6000, 0.6000, 0.6000],\n",
              "        [0.6000, 0.6000, 0.6000]])"
            ]
          },
          "metadata": {
            "tags": []
          },
          "execution_count": 179
        }
      ]
    },
    {
      "cell_type": "code",
      "metadata": {
        "id": "NwLiOaKSjPVf"
      },
      "source": [
        "def energy(a,b,c):\n",
        "  E1 = curvature(a, b, c)\n",
        "  t1 = T1(a, b, c)\n",
        "  t2 = T2(a, b, c)\n",
        "  def inner(v1, v2):\n",
        "    return E1(v1, v2) + t1(v1, v2) + t2(v1, v2)\n",
        "  return inner"
      ],
      "execution_count": null,
      "outputs": []
    },
    {
      "cell_type": "code",
      "metadata": {
        "colab": {
          "base_uri": "https://localhost:8080/"
        },
        "id": "1Zra_mC2lmD6",
        "outputId": "8f88c7b9-4e10-4db6-9a04-f7a5446f5af1"
      },
      "source": [
        "E = energy(layer1, layer2, layer3)\n",
        "print(E(v1, v2))"
      ],
      "execution_count": null,
      "outputs": [
        {
          "output_type": "stream",
          "text": [
            "tensor(13.5788, grad_fn=<AddBackward0>)\n"
          ],
          "name": "stdout"
        }
      ]
    },
    {
      "cell_type": "code",
      "metadata": {
        "colab": {
          "base_uri": "https://localhost:8080/"
        },
        "id": "hGGCgPsHaGRx",
        "outputId": "4f64aa5a-d9a1-4553-e045-b3985dde62de"
      },
      "source": [
        "v1 = torch.full((3, 2), 0.5, requires_grad=True)\n",
        "v2 = torch.full((2, 3), 0.5, requires_grad=True)\n",
        "T = 3\n",
        "\n",
        "for i in range(20):\n",
        "  e = E(v1, v2)\n",
        "  print(e.item())\n",
        "  e.backward()\n",
        "  v1 = torch.sigmoid(- v1.grad / T).clone().detach().requires_grad_(True)\n",
        "  v2 = torch.sigmoid(- v2.grad / T).clone().detach().requires_grad_(True)\n"
      ],
      "execution_count": null,
      "outputs": [
        {
          "output_type": "stream",
          "text": [
            "3.39469051361084\n",
            "1.1352876424789429\n",
            "7.777202129364014\n",
            "3.7711129188537598\n",
            "17.53969383239746\n",
            "8.032204627990723\n",
            "26.500661849975586\n",
            "10.12683391571045\n",
            "29.549264907836914\n",
            "10.608461380004883\n",
            "30.16474723815918\n",
            "10.695420265197754\n",
            "30.272871017456055\n",
            "10.710372924804688\n",
            "30.291379928588867\n",
            "10.712919235229492\n",
            "30.29452133178711\n",
            "10.713351249694824\n",
            "30.295055389404297\n",
            "10.71342658996582\n"
          ],
          "name": "stdout"
        }
      ]
    },
    {
      "cell_type": "code",
      "metadata": {
        "colab": {
          "base_uri": "https://localhost:8080/"
        },
        "id": "1etdEqeDak0w",
        "outputId": "fd8d4bc1-dc14-499a-8eec-9fa832376bcb"
      },
      "source": [
        "v1"
      ],
      "execution_count": null,
      "outputs": [
        {
          "output_type": "execute_result",
          "data": {
            "text/plain": [
              "tensor([[0.1521, 0.1281],\n",
              "        [0.1316, 0.1316],\n",
              "        [0.1281, 0.1521]], requires_grad=True)"
            ]
          },
          "metadata": {
            "tags": []
          },
          "execution_count": 186
        }
      ]
    },
    {
      "cell_type": "code",
      "metadata": {
        "colab": {
          "base_uri": "https://localhost:8080/"
        },
        "id": "rW21RLxrmCVH",
        "outputId": "f4e5f1a8-d653-45d8-fb41-fce306848e02"
      },
      "source": [
        "v2"
      ],
      "execution_count": null,
      "outputs": [
        {
          "output_type": "execute_result",
          "data": {
            "text/plain": [
              "tensor([[0.1521, 0.1316, 0.1281],\n",
              "        [0.1281, 0.1316, 0.1521]], requires_grad=True)"
            ]
          },
          "metadata": {
            "tags": []
          },
          "execution_count": 187
        }
      ]
    }
  ]
}