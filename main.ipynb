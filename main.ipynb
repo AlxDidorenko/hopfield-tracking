{
 "cells": [
  {
   "cell_type": "code",
   "execution_count": null,
   "id": "ba7e72c4-af8b-499d-9914-a50d8d58293d",
   "metadata": {},
   "outputs": [],
   "source": [
    "from statistics import mean\n",
    "\n",
    "import holoviews as hv\n",
    "import numpy as np\n",
    "import pandas as pd\n",
    "from holoviews import opts\n",
    "from matplotlib import pyplot as plt\n",
    "\n",
    "from cross import cross_energy_matrix, cross_energy_gradient, cross_energy\n",
    "from curvature import curvature_energy_matrix, curvature_energy_gradient, curvature_energy\n",
    "from generator import SimpleEventGenerator\n",
    "from reconstruct import annealing_curve, update_layer_grad, precision, recall, make_tracks_3d\n",
    "from segment import gen_segments_all\n",
    "from total import total_activation_matrix, total_activation_energy_gradient, total_activation_energy"
   ]
  },
  {
   "cell_type": "code",
   "execution_count": null,
   "id": "03b2fa1d-b565-4bd1-a479-6fc044124884",
   "metadata": {},
   "outputs": [],
   "source": [
    "N_TRACKS = 10\n",
    "\n",
    "hits, track_segments = next(SimpleEventGenerator(\n",
    "    seed=2, field_strength=0.8, noisiness=10, box_size=.5\n",
    ").gen_many_events(1, N_TRACKS))\n",
    "hits"
   ]
  },
  {
   "cell_type": "code",
   "execution_count": null,
   "id": "749c8a8d-3149-409b-a027-debd9ac76387",
   "metadata": {},
   "outputs": [],
   "source": [
    "pos = hits[['x', 'y', 'z']].values"
   ]
  },
  {
   "cell_type": "code",
   "execution_count": null,
   "id": "c3cde15b-cd0d-4374-8521-9c3fdebe9756",
   "metadata": {},
   "outputs": [],
   "source": [
    "seg = gen_segments_all(hits)\n",
    "len(track_segments), len(seg)"
   ]
  },
  {
   "cell_type": "code",
   "execution_count": null,
   "id": "06b5a9ad-9596-4819-acb1-304f21bbf282",
   "metadata": {},
   "outputs": [],
   "source": [
    "perfect_act = np.zeros(len(seg))\n",
    "track_segment_set = set(tuple(s) for s in track_segments)\n",
    "is_in_track = np.array([tuple(s) in track_segment_set for s in seg])\n",
    "perfect_act[is_in_track] = 1"
   ]
  },
  {
   "cell_type": "code",
   "execution_count": null,
   "id": "12daf8c3-6d02-4c9f-b500-ff1d8d06fea3",
   "metadata": {},
   "outputs": [],
   "source": [
    "ALPHA = 0.6  # forks and joins\n",
    "\n",
    "BETA = 0  # total activation\n",
    "DROP_SELF_ACTIVATION_WEIGHTS = True  # in total activation matrix\n",
    "BIAS = 0.2  # activation bias, instead of total activation matrix\n",
    "\n",
    "COSINE_POWER = 5\n",
    "COSINE_MIN = 0.7\n",
    "DISTANCE_POWER = 1\n",
    "GAMMA = mean((xa - xb) * (xb - xc)\n",
    "             for xa, la in hits[['x', 'layer']].values\n",
    "             for xb in hits[hits.layer == la + 1].x\n",
    "             for xc in hits[hits.layer == la + 2].x) ** DISTANCE_POWER\n",
    "\n",
    "THRESHOLD = 0.5  # activation threshold for segment classification\n",
    "\n",
    "TMAX = 20\n",
    "TMIN = 0.5\n",
    "ANNEAL_ITERATIONS = 40\n",
    "STABLE_ITERATIONS = 200\n",
    "\n",
    "DROPOUT = 0.5\n",
    "LEARNING_RATE = 0.6\n",
    "MIN_ACTIVATION_CHANGE_TO_CONTINUE = 1e-9"
   ]
  },
  {
   "cell_type": "code",
   "execution_count": null,
   "id": "7e534cc8-3b42-471c-ba71-6332953111a7",
   "metadata": {},
   "outputs": [],
   "source": [
    "a, b, c = total_activation_matrix(pos, seg, DROP_SELF_ACTIVATION_WEIGHTS)\n",
    "crossing_matrix = cross_energy_matrix(seg)\n",
    "curvature_matrix = curvature_energy_matrix(pos, seg, COSINE_POWER, COSINE_MIN, DISTANCE_POWER)"
   ]
  },
  {
   "cell_type": "code",
   "execution_count": null,
   "id": "bef58040-34eb-412d-8503-a69f6e40c957",
   "metadata": {},
   "outputs": [],
   "source": [
    "temp_curve = annealing_curve(TMIN, TMAX, ANNEAL_ITERATIONS, STABLE_ITERATIONS)\n",
    "tcdf = pd.DataFrame({'temp': temp_curve})\n",
    "tcdf.index.name = 'step'\n",
    "tcdf.plot()"
   ]
  },
  {
   "cell_type": "code",
   "execution_count": null,
   "id": "7391731e-ef26-4d17-a096-a1a998984816",
   "metadata": {},
   "outputs": [],
   "source": [
    "act = np.full(len(seg), THRESHOLD * 0.999)\n",
    "acts = []\n",
    "for i, t in enumerate(temp_curve):\n",
    "    acts.append(act)\n",
    "    grad = GAMMA * curvature_energy_gradient(curvature_matrix, act) + \\\n",
    "           ALPHA * cross_energy_gradient(crossing_matrix, act) + \\\n",
    "           BETA * total_activation_energy_gradient(a, b, act)\n",
    "    a_prev = act\n",
    "    act = update_layer_grad(a_prev, grad, t, DROPOUT, LEARNING_RATE, BIAS)\n",
    "    if np.abs(act - a_prev).sum() < MIN_ACTIVATION_CHANGE_TO_CONTINUE and i > ANNEAL_ITERATIONS:\n",
    "        break"
   ]
  },
  {
   "cell_type": "code",
   "execution_count": null,
   "id": "28e4bdfc-ab67-47f3-aea3-305e5719636a",
   "metadata": {},
   "outputs": [],
   "source": [
    "energy_history = []\n",
    "for act in acts:\n",
    "    en = BETA * total_activation_energy(a, b, c, act)\n",
    "    ef = ALPHA * cross_energy(crossing_matrix, act)\n",
    "    ec = - GAMMA * curvature_energy(curvature_matrix, act)\n",
    "    energy_history.append([ec, en, ef])\n",
    "energy_history = pd.DataFrame(energy_history, columns=['E_curve', 'E_number', 'E_fork'])\n",
    "energy_history"
   ]
  },
  {
   "cell_type": "code",
   "execution_count": null,
   "id": "e8441470-381c-44c6-85ea-74331ff32696",
   "metadata": {},
   "outputs": [],
   "source": [
    "small_history = pd.DataFrame([\n",
    "    (\n",
    "        precision(act, perfect_act, THRESHOLD),\n",
    "        recall(act, perfect_act, THRESHOLD),\n",
    "        act.mean(),\n",
    "        ((act - perfect_act) ** 2).mean()\n",
    "    ) for act in acts],\n",
    "    columns=['precision', 'recall', 'mean_act', 'dist_perfect'])\n",
    "small_history.index.name = 'step'\n",
    "small_history"
   ]
  },
  {
   "cell_type": "code",
   "execution_count": null,
   "id": "f247168b-2632-49f3-adf5-92714eeb7acc",
   "metadata": {},
   "outputs": [],
   "source": [
    "small_history.plot()"
   ]
  },
  {
   "cell_type": "code",
   "execution_count": null,
   "id": "77d1f39b-692a-44a8-acc6-0fd28589eddf",
   "metadata": {},
   "outputs": [],
   "source": [
    "energy_history.plot(logy=True)"
   ]
  },
  {
   "cell_type": "code",
   "execution_count": null,
   "id": "80d4b17d-41ae-41a1-984e-1705bc622b1b",
   "metadata": {},
   "outputs": [],
   "source": [
    "n_steps = 32\n",
    "steps = np.linspace(0, len(acts) - 1, min(n_steps, len(acts)), dtype=int)\n",
    "\n",
    "tracks_3d = []\n",
    "tracks_projection = []\n",
    "tracks_by_track = []\n",
    "for i in steps:\n",
    "    tp, fp, tn, fn = make_tracks_3d(pos, seg, acts[i], perfect_act, THRESHOLD)\n",
    "    vdims = ['act', 'perfect_act', 'positive', 'true']\n",
    "    xyz = hv.Overlay([\n",
    "        hv.Scatter3D(hits[hits.track == -1], kdims=['x', 'y', 'z'], label='noise', group='hits'),\n",
    "        hv.Scatter3D(hits[hits.track != -1], kdims=['x', 'y', 'z'], label='hits', group='hits'),\n",
    "        hv.Path3D(tp, vdims=vdims, label='tp', group='tracks'),\n",
    "        hv.Path3D(fp, vdims=vdims, label='fp', group='tracks'),\n",
    "        hv.Path3D(fn, vdims=vdims, label='fn', group='tracks')\n",
    "    ])\n",
    "    tracks_3d.append(xyz)\n",
    "\n",
    "    projection = hv.Points(hits[hits.track != -1], kdims=['y', 'z'], label='hits', group='hits') * \\\n",
    "                 hv.Points(hits[hits.track == -1], kdims=['y', 'z'], label='noise', group='hits') * \\\n",
    "                 hv.Path(tp, kdims=['y', 'z'], vdims=vdims, label='tp', group='tracks') * \\\n",
    "                 hv.Path(fp, kdims=['y', 'z'], vdims=vdims, label='fp', group='tracks') * \\\n",
    "                 hv.Path(fn, kdims=['y', 'z'], vdims=vdims, label='fn', group='tracks')\n",
    "    tracks_projection.append(projection)\n",
    "\n",
    "    nodes = hv.Nodes(hits, kdims=['track', 'layer', 'index'])\n",
    "    no_tn = np.logical_or(acts[i] > THRESHOLD, perfect_act > THRESHOLD)\n",
    "    graph = hv.Graph(((*seg[no_tn].transpose(), acts[i][no_tn], perfect_act[no_tn]), nodes), vdims=['act', 'perfect_act'])\n",
    "    tracks_by_track.append(hv.Overlay([graph]))\n"
   ]
  },
  {
   "cell_type": "code",
   "execution_count": null,
   "id": "08a10c77-d6aa-4973-b9aa-666396e22f2f",
   "metadata": {},
   "outputs": [],
   "source": [
    "hv.extension('bokeh')\n",
    "track_history = hv.HoloMap(\n",
    "    {s: hv.Histogram(np.histogram(acts[s], bins=64, range=(0,1))) for s in steps},\n",
    "    kdims='step'\n",
    ")\n",
    "track_history.opts(\n",
    "    opts.Histogram(width=400, height=400)\n",
    ")"
   ]
  },
  {
   "cell_type": "code",
   "execution_count": null,
   "id": "d0ffcd3d-6bf9-4379-8a99-394191ed39f3",
   "metadata": {},
   "outputs": [],
   "source": [
    "hv.extension('matplotlib')\n",
    "track_history = hv.NdLayout(\n",
    "    {s: tracks_3d[i] for i, s in enumerate(steps)},\n",
    "    kdims='step'\n",
    ")\n",
    "track_history.opts(\n",
    "    opts.Scatter3D(c='black'),\n",
    "    opts.Scatter3D('Hits.Noise', c='red'),\n",
    "    opts.Path3D(color='black', show_legend=True),\n",
    "    opts.Path3D('Tracks.fp', color='red'),\n",
    "    opts.Path3D('Tracks.fn', color='cyan'),\n",
    "    opts.Overlay(legend_position='right'),\n",
    "    opts.NdLayout(fig_size=128)\n",
    ").cols(6)"
   ]
  },
  {
   "cell_type": "code",
   "execution_count": null,
   "id": "e79b48dd-1e81-48d9-85f6-a94586c6454a",
   "metadata": {},
   "outputs": [],
   "source": [
    "hv.extension('plotly')\n",
    "track_history = hv.HoloMap(\n",
    "    {s: tracks_3d[i] for i, s in enumerate(steps)},\n",
    "    kdims='step'\n",
    ")\n",
    "track_history.opts(\n",
    "    opts.Scatter3D(size=2, color='black'),\n",
    "    opts.Scatter3D('Hits.Noise', color='red'),\n",
    "    opts.Path3D(color='black'),\n",
    "    opts.Path3D('Tracks.fp', color='red'),\n",
    "    opts.Path3D('Tracks.fn', color='cyan'),\n",
    "    opts.Overlay(width=700, height=700)\n",
    ")"
   ]
  },
  {
   "cell_type": "code",
   "execution_count": null,
   "id": "8f0211c6-8ad1-4b1f-baec-d417baf8c65e",
   "metadata": {},
   "outputs": [],
   "source": [
    "hv.extension('matplotlib')\n",
    "track_history = hv.HoloMap(\n",
    "    {s: tracks_projection[i] for i, s in enumerate(steps)},\n",
    "    kdims='step'\n",
    ")\n",
    "track_history.opts(\n",
    "    opts.Points(color='black'),\n",
    "    opts.Points('Hits.Noise', color='black'),\n",
    "    opts.Path(color='black', show_legend=True),\n",
    "    opts.Path('Tracks.fp', color='red'),\n",
    "    opts.Path('Tracks.fn', color='cyan'),\n",
    "    opts.Overlay(legend_position='right', fig_size=256),\n",
    ")\n"
   ]
  },
  {
   "cell_type": "code",
   "execution_count": null,
   "id": "c8cffd16-50cf-4faa-bd38-0e9eda1f4006",
   "metadata": {},
   "outputs": [],
   "source": [
    "hv.extension('bokeh')\n",
    "track_history = hv.HoloMap(\n",
    "    {s: tracks_projection[i] for i, s in enumerate(steps)},\n",
    "    kdims='step'\n",
    ")\n",
    "track_history.opts(\n",
    "    opts.Points(color='black', size=4),\n",
    "    opts.Points('Hits.Noise', color='red'),\n",
    "    opts.Path(color='black', show_legend=True),\n",
    "    opts.Path('Tracks.fp', color='red'),\n",
    "    opts.Path('Tracks.fn', color='cyan'),\n",
    "    opts.Overlay(legend_position='right', width=700, height=700)\n",
    ")\n"
   ]
  },
  {
   "cell_type": "code",
   "execution_count": null,
   "id": "9a9b0b97-09f2-41e7-924a-8c59e293c41c",
   "metadata": {},
   "outputs": [],
   "source": [
    "track_history = hv.HoloMap(\n",
    "    {s: tracks_by_track[i] for i, s in enumerate(steps)},\n",
    "    kdims='step'\n",
    ")\n",
    "track_history.opts(\n",
    "    opts.Graph(node_size=8, edge_color='act', colorbar=True),\n",
    "    opts.EdgePaths(colorbar=True)\n",
    ")"
   ]
  }
 ],
 "metadata": {
  "kernelspec": {
   "display_name": "Python 3",
   "language": "python",
   "name": "python3"
  },
  "language_info": {
   "codemirror_mode": {
    "name": "ipython",
    "version": 3
   },
   "file_extension": ".py",
   "mimetype": "text/x-python",
   "name": "python",
   "nbconvert_exporter": "python",
   "pygments_lexer": "ipython3"
  }
 },
 "nbformat": 4,
 "nbformat_minor": 5
}
