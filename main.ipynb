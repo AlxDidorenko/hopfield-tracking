{
 "cells": [
  {
   "cell_type": "code",
   "execution_count": null,
   "id": "cf35319b",
   "metadata": {},
   "outputs": [],
   "source": [
    "import holoviews as hv\n",
    "import numpy as np\n",
    "import pandas as pd\n",
    "from holoviews import opts\n",
    "\n",
    "from cross import cross_energy_matrix\n",
    "from curvature import curvature_energy_matrix, segment_adjacent_pairs\n",
    "from generator import SimpleEventGenerator\n",
    "from reconstruct import annealing_curve, update_layer_grad, energy, energy_gradient, should_stop\n",
    "from plot import make_tracks_3d\n",
    "from segment import gen_segments_all"
   ]
  },
  {
   "cell_type": "code",
   "execution_count": null,
   "id": "2f280b39",
   "metadata": {},
   "outputs": [],
   "source": [
    "import pickle\n",
    "\n",
    "with open('workdir/514452.pkl', 'rb') as fh:\n",
    "    result = pickle.load(fh)\n",
    "\n",
    "best_run = result.get_runs_by_id(result.get_incumbent_id())[-1]\n",
    "best_run"
   ]
  },
  {
   "cell_type": "code",
   "execution_count": null,
   "id": "d22913e3",
   "metadata": {},
   "outputs": [],
   "source": [
    "config = result.get_id2config_mapping()[best_run.config_id]['config']\n",
    "THRESHOLD = config['threshold']\n",
    "config"
   ]
  },
  {
   "cell_type": "code",
   "execution_count": null,
   "id": "17dcefb8",
   "metadata": {},
   "outputs": [],
   "source": [
    "N_TRACKS = 20\n",
    "N_EVENTS = 1\n",
    "\n",
    "eventgen = SimpleEventGenerator(\n",
    "    seed=13, field_strength=0.8, noisiness=10, box_size=.5\n",
    ").gen_many_events(N_EVENTS, N_TRACKS)\n",
    "\n",
    "hits, track_segments = next(eventgen)\n",
    "hits"
   ]
  },
  {
   "cell_type": "code",
   "execution_count": null,
   "id": "03eab4e2",
   "metadata": {},
   "outputs": [],
   "source": [
    "pos = hits[['x', 'y', 'z']].values"
   ]
  },
  {
   "cell_type": "code",
   "execution_count": null,
   "id": "73d741b6",
   "metadata": {},
   "outputs": [],
   "source": [
    "seg = gen_segments_all(hits)\n",
    "len(track_segments), len(seg)"
   ]
  },
  {
   "cell_type": "code",
   "execution_count": null,
   "id": "7299f141",
   "metadata": {},
   "outputs": [],
   "source": [
    "perfect_act = np.zeros(len(seg))\n",
    "track_segment_set = set(tuple(s) for s in track_segments)\n",
    "is_in_track = np.array([tuple(s) in track_segment_set for s in seg])\n",
    "perfect_act[is_in_track] = 1"
   ]
  },
  {
   "cell_type": "code",
   "execution_count": null,
   "id": "1afd68ee",
   "metadata": {},
   "outputs": [],
   "source": [
    "pairs = segment_adjacent_pairs(seg)\n",
    "\n",
    "crossing_matrix = cross_energy_matrix(seg, pos, config['cosine_min_allowed'])\n",
    "\n",
    "curvature_matrix = curvature_energy_matrix(pos, seg, pairs,\n",
    "                                           config['cosine_power'], config['cosine_min_rewarded'],\n",
    "                                           config['distance_power'])\n",
    "\n",
    "e_matrix = config['alpha'] / 2 * crossing_matrix - config['gamma'] / 2 * curvature_matrix"
   ]
  },
  {
   "cell_type": "code",
   "execution_count": null,
   "id": "2daf8b96",
   "metadata": {},
   "outputs": [],
   "source": [
    "temp_curve = annealing_curve(config['tmin'], config['tmax'],\n",
    "                             config['anneal_steps'], config['total_steps'] - config['anneal_steps'])\n",
    "\n",
    "tcdf = pd.DataFrame({'temp': temp_curve})\n",
    "tcdf.index.name = 'step'\n",
    "tcdf.plot()"
   ]
  },
  {
   "cell_type": "code",
   "execution_count": null,
   "id": "8ee7b4e6",
   "metadata": {},
   "outputs": [],
   "source": [
    "act = np.full(len(seg), config['starting_act'])\n",
    "acts = [act.copy()]\n",
    "for i, t in enumerate(temp_curve):\n",
    "    grad = energy_gradient(e_matrix, act)\n",
    "    update_layer_grad(act, grad, t, config['dropout'], config['learning_rate'], config['bias'])\n",
    "    acts.append(act.copy())"
   ]
  },
  {
   "cell_type": "code",
   "execution_count": null,
   "id": "edd066bc",
   "metadata": {},
   "outputs": [],
   "source": [
    "energy_history = []\n",
    "for act in acts:\n",
    "    ef = config['alpha'] / 2 * energy(crossing_matrix, act)\n",
    "    ec = config['gamma'] / 2 * energy(curvature_matrix, act) # inverted to positive\n",
    "    energy_history.append([ec, ef])\n",
    "energy_history = pd.DataFrame(energy_history, columns=['E_curve', 'E_fork'])\n",
    "energy_history.index.name = 'step'\n",
    "energy_history.plot(logy=True)\n",
    "pass"
   ]
  },
  {
   "cell_type": "code",
   "execution_count": null,
   "id": "967f4a19",
   "metadata": {},
   "outputs": [],
   "source": [
    "from sklearn.metrics import precision_score, recall_score, f1_score, roc_auc_score, average_precision_score\n",
    "small_history = pd.DataFrame([\n",
    "    (\n",
    "        precision_score(perfect_act, act>THRESHOLD, zero_division=0),\n",
    "        recall_score(perfect_act, act>THRESHOLD, zero_division=0),\n",
    "        f1_score(perfect_act, act>THRESHOLD, zero_division=0),\n",
    "        roc_auc_score(perfect_act, act),\n",
    "        average_precision_score(perfect_act, act),\n",
    "        act.mean(),\n",
    "        ((act - perfect_act) ** 2).mean()\n",
    "    ) for act in acts],\n",
    "    columns=['precision', 'recall', 'f1', 'roc_auc', 'ap', 'mean_act', 'dist_perfect'])\n",
    "small_history.index.name = 'step'\n",
    "small_history.plot()"
   ]
  },
  {
   "cell_type": "code",
   "execution_count": null,
   "id": "9c3abcd1",
   "metadata": {},
   "outputs": [],
   "source": [
    "from sklearn.metrics import precision_recall_curve, PrecisionRecallDisplay, average_precision_score\n",
    "average_precision = average_precision_score(perfect_act, act)\n",
    "precision, recall, _ = precision_recall_curve(perfect_act, act)\n",
    "PrecisionRecallDisplay(precision=precision, recall=recall, average_precision=average_precision).plot()"
   ]
  },
  {
   "cell_type": "code",
   "execution_count": null,
   "id": "3cceae37",
   "metadata": {},
   "outputs": [],
   "source": [
    "from sklearn.metrics import roc_curve, RocCurveDisplay\n",
    "fpr, tpr, _ = roc_curve(perfect_act, act)\n",
    "RocCurveDisplay(fpr=fpr, tpr=tpr).plot()"
   ]
  },
  {
   "cell_type": "code",
   "execution_count": null,
   "id": "5747b84c",
   "metadata": {},
   "outputs": [],
   "source": [
    "from sklearn.metrics import det_curve, DetCurveDisplay\n",
    "fpr, fnr, _ = det_curve(perfect_act, act)\n",
    "DetCurveDisplay(fpr=fpr, fnr=fnr).plot()"
   ]
  },
  {
   "cell_type": "code",
   "execution_count": null,
   "id": "b0f6f8f1",
   "metadata": {},
   "outputs": [],
   "source": [
    "n_steps = min(16, len(acts))\n",
    "steps = np.linspace(0, len(acts) - 1, n_steps, dtype=int)\n",
    "\n",
    "tracks_3d = []\n",
    "tracks_projection = []\n",
    "tracks_by_track = []\n",
    "for i in steps:\n",
    "    tp, fp, tn, fn = make_tracks_3d(pos, seg, acts[i], perfect_act, THRESHOLD)\n",
    "    vdims = ['act', 'perfect_act', 'positive', 'true']\n",
    "    xyz = hv.Overlay([\n",
    "        hv.Scatter3D(hits[hits.track == -1], kdims=['x', 'y', 'z'], label='noise', group='hits'),\n",
    "        hv.Scatter3D(hits[hits.track != -1], kdims=['x', 'y', 'z'], label='hits', group='hits'),\n",
    "        hv.Path3D(tp, vdims=vdims, label='tp', group='tracks'),\n",
    "        hv.Path3D(fp, vdims=vdims, label='fp', group='tracks'),\n",
    "        hv.Path3D(fn, vdims=vdims, label='fn', group='tracks')\n",
    "    ])\n",
    "    tracks_3d.append(xyz)\n",
    "\n",
    "    projection = hv.Points(hits[hits.track != -1], kdims=['x', 'y'], label='hits', group='hits') * \\\n",
    "                 hv.Points(hits[hits.track == -1], kdims=['x', 'y'], label='noise', group='hits') * \\\n",
    "                 hv.Path(tp, kdims=['x', 'y'], vdims=vdims, label='tp', group='tracks') * \\\n",
    "                 hv.Path(fp, kdims=['x', 'y'], vdims=vdims, label='fp', group='tracks') * \\\n",
    "                 hv.Path(fn, kdims=['x', 'y'], vdims=vdims, label='fn', group='tracks')\n",
    "    tracks_projection.append(projection)\n",
    "\n",
    "    nodes = hv.Nodes(hits, kdims=['track', 'layer', 'index'])\n",
    "    no_tn = np.logical_or(acts[i] > THRESHOLD, perfect_act > THRESHOLD)\n",
    "    graph = hv.Graph(((*seg[no_tn].transpose(), acts[i][no_tn], perfect_act[no_tn]), nodes),\n",
    "                     vdims=['act', 'perfect_act'])\n",
    "    tracks_by_track.append(hv.Overlay([graph]))\n"
   ]
  },
  {
   "cell_type": "code",
   "execution_count": null,
   "id": "1bd3f980",
   "metadata": {},
   "outputs": [],
   "source": [
    "hv.extension('matplotlib')\n",
    "tracks_3d[-1].opts(\n",
    "    opts.Scatter3D(c='black'),\n",
    "    opts.Scatter3D('Hits.Noise', c='red'),\n",
    "    opts.Path3D(color='black', show_legend=True),\n",
    "    opts.Path3D('Tracks.fp', color='red'),\n",
    "    opts.Path3D('Tracks.fn', color='cyan'),\n",
    "    opts.Overlay(legend_position='right', fig_size=400),\n",
    ")"
   ]
  },
  {
   "cell_type": "code",
   "execution_count": null,
   "id": "eaf0dcc4",
   "metadata": {},
   "outputs": [],
   "source": [
    "hv.extension('bokeh')\n",
    "track_history = \\\n",
    "    hv.HoloMap(\n",
    "        {s: hv.Histogram(np.histogram(acts[s][perfect_act > THRESHOLD], bins=32, range=(0, 1))) for s in\n",
    "         np.linspace(0, len(acts) - 1, min(64, len(acts)), dtype=int)},\n",
    "        kdims='step', group=\"Activation\", label=\"On track\") + \\\n",
    "    hv.HoloMap(\n",
    "        {s: hv.Histogram(np.histogram(acts[s][perfect_act < THRESHOLD], bins=32, range=(0, 1))) for s in\n",
    "         np.linspace(0, len(acts) - 1, min(64, len(acts)), dtype=int)},\n",
    "        kdims='step', group=\"Activation\", label=\"Off track\")\n",
    "\n",
    "track_history.opts(\n",
    "    opts.Histogram(width=400, height=400)\n",
    ")"
   ]
  },
  {
   "cell_type": "code",
   "execution_count": null,
   "id": "c37846b9",
   "metadata": {},
   "outputs": [],
   "source": [
    "hv.extension('plotly')\n",
    "tracks_3d[-1].opts(\n",
    "    opts.Scatter3D(size=2, color='black'),\n",
    "    opts.Scatter3D('Hits.Noise', color='red'),\n",
    "    opts.Path3D(color='black'),\n",
    "    opts.Path3D('Tracks.fp', color='red'),\n",
    "    opts.Path3D('Tracks.fn', color='cyan'),\n",
    "    opts.Overlay(width=600, height=600)\n",
    ")"
   ]
  },
  {
   "cell_type": "code",
   "execution_count": null,
   "id": "460ca5a2",
   "metadata": {},
   "outputs": [],
   "source": [
    "hv.extension('matplotlib')\n",
    "track_history = hv.NdLayout(\n",
    "    {s: tracks_3d[i] for i, s in enumerate(steps)},\n",
    "    kdims='step'\n",
    ")\n",
    "track_history.opts(\n",
    "    opts.Scatter3D(c='black'),\n",
    "    opts.Scatter3D('Hits.Noise', c='red'),\n",
    "    opts.Path3D(color='black', show_legend=True),\n",
    "    opts.Path3D('Tracks.fp', color='red'),\n",
    "    opts.Path3D('Tracks.fn', color='cyan'),\n",
    "    opts.Overlay(legend_position='right'),\n",
    "    opts.NdLayout(fig_size=200)\n",
    ").cols(4)"
   ]
  },
  {
   "cell_type": "code",
   "execution_count": null,
   "id": "e714094c",
   "metadata": {},
   "outputs": [],
   "source": [
    "hv.extension('plotly')\n",
    "track_history = hv.HoloMap(\n",
    "    {s: tracks_3d[i] for i, s in enumerate(steps)},\n",
    "    kdims='step'\n",
    ")\n",
    "track_history.opts(\n",
    "    opts.Scatter3D(size=2, color='black'),\n",
    "    opts.Scatter3D('Hits.Noise', color='red'),\n",
    "    opts.Path3D(color='black'),\n",
    "    opts.Path3D('Tracks.fp', color='red'),\n",
    "    opts.Path3D('Tracks.fn', color='cyan'),\n",
    "    opts.Overlay(width=700, height=700)\n",
    ")\n",
    "# hv.save(track_history, 'track_history_3d2.html', fmt='scrubber')"
   ]
  },
  {
   "cell_type": "code",
   "execution_count": null,
   "id": "99b88a68",
   "metadata": {},
   "outputs": [],
   "source": [
    "# hv.extension('matplotlib')\n",
    "# track_history = hv.HoloMap(\n",
    "#     {s: tracks_projection[i] for i, s in enumerate(steps)},\n",
    "#     kdims='step'\n",
    "# )\n",
    "# track_history.opts(\n",
    "#     opts.Points(color='black'),\n",
    "#     opts.Points('Hits.Noise', color='black'),\n",
    "#     opts.Path(color='black', show_legend=True),\n",
    "#     opts.Path('Tracks.fp', color='red'),\n",
    "#     opts.Path('Tracks.fn', color='cyan'),\n",
    "#     opts.Overlay(legend_position='right', fig_size=256),\n",
    "# )"
   ]
  },
  {
   "cell_type": "code",
   "execution_count": null,
   "id": "46117675",
   "metadata": {},
   "outputs": [],
   "source": [
    "hv.extension('bokeh')\n",
    "track_history = hv.HoloMap(\n",
    "    {s: tracks_projection[i] for i, s in enumerate(steps)},\n",
    "    kdims='step'\n",
    ")\n",
    "track_history.opts(\n",
    "    opts.Points(color='black', size=4),\n",
    "    opts.Points('Hits.Noise', color='red'),\n",
    "    opts.Path(color='black', show_legend=True),\n",
    "    opts.Path('Tracks.fp', color='red'),\n",
    "    opts.Path('Tracks.fn', color='cyan'),\n",
    "    opts.Overlay(legend_position='right', width=700, height=700)\n",
    ")\n"
   ]
  }
 ],
 "metadata": {
  "kernelspec": {
   "display_name": "hopfield-tracking",
   "language": "python",
   "name": "hopfield-tracking"
  },
  "language_info": {
   "codemirror_mode": {
    "name": "ipython",
    "version": 3
   },
   "file_extension": ".py",
   "mimetype": "text/x-python",
   "name": "python",
   "nbconvert_exporter": "python",
   "pygments_lexer": "ipython3"
  }
 },
 "nbformat": 4,
 "nbformat_minor": 5
}
