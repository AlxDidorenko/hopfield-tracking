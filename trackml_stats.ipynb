{
 "cells": [
  {
   "cell_type": "code",
   "execution_count": null,
   "id": "9128cccd",
   "metadata": {},
   "outputs": [],
   "source": [
    "import numpy as np\n",
    "import pandas as pd\n",
    "import seaborn as sns\n",
    "import pandas as pd\n",
    "from datasets import get_hits_trackml"
   ]
  },
  {
   "cell_type": "code",
   "execution_count": null,
   "id": "8f10d7a3",
   "metadata": {},
   "outputs": [],
   "source": [
    "events = get_hits_trackml()"
   ]
  },
  {
   "cell_type": "code",
   "execution_count": null,
   "id": "7bb8e4a4",
   "metadata": {},
   "outputs": [],
   "source": [
    "events"
   ]
  },
  {
   "cell_type": "code",
   "execution_count": null,
   "id": "aac69f66",
   "metadata": {},
   "outputs": [],
   "source": [
    "events[events.event_id==1049].track.nunique()"
   ]
  },
  {
   "cell_type": "code",
   "execution_count": null,
   "id": "3c4f944b",
   "metadata": {},
   "outputs": [],
   "source": [
    "from matplotlib import pyplot as plt\n",
    "events.x.hist(bins=50)"
   ]
  },
  {
   "cell_type": "code",
   "execution_count": null,
   "id": "6be392a8",
   "metadata": {},
   "outputs": [],
   "source": [
    "size_ev = events.groupby(by=\"event_id\").size()\n",
    "size_ev"
   ]
  },
  {
   "cell_type": "code",
   "execution_count": null,
   "id": "d7e2ad92",
   "metadata": {},
   "outputs": [],
   "source": [
    "size_ev.hist(bins=32, log=True)"
   ]
  },
  {
   "cell_type": "code",
   "execution_count": null,
   "id": "45e16880",
   "metadata": {},
   "outputs": [],
   "source": [
    "size_ev.hist(bins=np.logspace(np.log10(100), np.log10(1000), 32), figsize=(16, 10)).set_xscale(\"log\")"
   ]
  },
  {
   "cell_type": "code",
   "execution_count": null,
   "id": "21441941",
   "metadata": {},
   "outputs": [],
   "source": [
    "events.groupby(by=\"event_id\").size()"
   ]
  },
  {
   "cell_type": "code",
   "execution_count": null,
   "id": "9d0c3494",
   "metadata": {},
   "outputs": [],
   "source": [
    "events.track.nunique()"
   ]
  },
  {
   "cell_type": "code",
   "execution_count": null,
   "id": "779211ed",
   "metadata": {},
   "outputs": [],
   "source": [
    "events.groupby(by=\"event_id\").track.nunique().hist(bins=50, log=True)"
   ]
  },
  {
   "cell_type": "code",
   "execution_count": null,
   "id": "d4d7a8d0",
   "metadata": {},
   "outputs": [],
   "source": [
    "stats = pd.concat([size_ev.rename('hits'), events.groupby(by=\"event_id\").track.nunique().rename('tracks')], axis=1)\n",
    "stats.head()"
   ]
  },
  {
   "cell_type": "code",
   "execution_count": null,
   "id": "c0ee9969",
   "metadata": {},
   "outputs": [],
   "source": [
    "stats.plot.hexbin('hits', 'tracks', bins='log', xscale='log', figsize=(16, 10), sharex=False)"
   ]
  },
  {
   "cell_type": "code",
   "execution_count": null,
   "id": "b9389db3",
   "metadata": {},
   "outputs": [],
   "source": [
    "stats.plot.hexbin('hits', 'tracks', gridsize=32, bins='log', xscale='log', figsize=(16, 10), sharex=False)"
   ]
  },
  {
   "cell_type": "code",
   "execution_count": null,
   "id": "dd77e584",
   "metadata": {},
   "outputs": [],
   "source": [
    "stats.plot.hexbin('hits', 'tracks', bins='log', figsize=(16, 10), sharex=False)"
   ]
  },
  {
   "cell_type": "code",
   "execution_count": null,
   "id": "1e3030e9",
   "metadata": {},
   "outputs": [],
   "source": [
    "g = sns.jointplot(\n",
    "    x=\"hits\", \n",
    "    y=\"tracks\", \n",
    "    kind=\"reg\",\n",
    "    data=stats\n",
    ");"
   ]
  },
  {
   "cell_type": "code",
   "execution_count": null,
   "id": "eefe1fa5",
   "metadata": {},
   "outputs": [],
   "source": [
    "g = sns.jointplot(\n",
    "    x=\"hits\", \n",
    "    y=\"tracks\", \n",
    "    kind=\"reg\",\n",
    "    data=stats,\n",
    "    logx=True\n",
    ");\n",
    "g.ax_joint.set_xscale('log')"
   ]
  }
 ],
 "metadata": {
  "kernelspec": {
   "display_name": "Python 3",
   "language": "python",
   "name": "python3"
  },
  "language_info": {
   "codemirror_mode": {
    "name": "ipython",
    "version": 3
   },
   "file_extension": ".py",
   "mimetype": "text/x-python",
   "name": "python",
   "nbconvert_exporter": "python",
   "pygments_lexer": "ipython3"
  }
 },
 "nbformat": 4,
 "nbformat_minor": 5
}
