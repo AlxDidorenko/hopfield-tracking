{
 "cells": [
  {
   "cell_type": "markdown",
   "metadata": {},
   "source": [
    "**Don't forget to run hydra-setup.ipynb**"
   ]
  },
  {
   "cell_type": "code",
   "execution_count": null,
   "metadata": {},
   "outputs": [],
   "source": [
    "!sbatch --partition=cpu --job-name=prepare-env --ntasks=2 run-hydra-env.sh"
   ]
  },
  {
   "cell_type": "code",
   "execution_count": null,
   "metadata": {},
   "outputs": [],
   "source": [
    "!sbatch --partition=interactive --job-name=prepare-env --ntasks=1 run-hydra-env.sh"
   ]
  },
  {
   "cell_type": "code",
   "execution_count": null,
   "metadata": {},
   "outputs": [],
   "source": [
    "!squeue --user $USER"
   ]
  },
  {
   "cell_type": "code",
   "execution_count": null,
   "metadata": {},
   "outputs": [],
   "source": [
    "%%bash\n",
    "sbatch --dependency=afterok:513300 --partition=interactive --job-name=optimize --ntasks=8 --ntasks-per-node=8 \\\n",
    "--cpus-per-task=1 --time=00:30:00 --mem-per-cpu=512 --no-requeue --wrap 'srun ./hydra-task.sh --n_workers=8'"
   ]
  },
  {
   "cell_type": "code",
   "execution_count": null,
   "metadata": {},
   "outputs": [],
   "source": [
    "!squeue -p interactive #-u $USER"
   ]
  },
  {
   "cell_type": "code",
   "execution_count": null,
   "metadata": {},
   "outputs": [],
   "source": [
    "!scancel 513324"
   ]
  },
  {
   "cell_type": "code",
   "execution_count": null,
   "metadata": {},
   "outputs": [],
   "source": [
    "!tail -fn100 slurm-513326.out"
   ]
  },
  {
   "cell_type": "code",
   "execution_count": null,
   "metadata": {},
   "outputs": [],
   "source": [
    "import pickle\n",
    "from matplotlib import pyplot as plt\n",
    "\n",
    "import hpbandster.visualization as hpvis\n",
    "\n",
    "with open('workdir/513027.pkl', 'rb') as fh:\n",
    "    result = pickle.load(fh)\n",
    "\n",
    "result"
   ]
  },
  {
   "cell_type": "code",
   "execution_count": null,
   "metadata": {},
   "outputs": [],
   "source": [
    "all_runs = result.get_all_runs()\n",
    "print(len(all_runs))\n",
    "all_runs[-1]"
   ]
  },
  {
   "cell_type": "code",
   "execution_count": null,
   "metadata": {},
   "outputs": [],
   "source": [
    "# get the 'dict' that translates config ids to the actual configurations\n",
    "id2conf = result.get_id2config_mapping()\n",
    "id2conf[(0,0,0)]"
   ]
  },
  {
   "cell_type": "code",
   "execution_count": null,
   "metadata": {},
   "outputs": [],
   "source": [
    "# Here is how you get he incumbent (best configuration)\n",
    "inc_id = result.get_incumbent_id()\n",
    "inc_id"
   ]
  },
  {
   "cell_type": "code",
   "execution_count": null,
   "metadata": {},
   "outputs": [],
   "source": [
    "# let's grab the run on the highest budget\n",
    "inc_runs = result.get_runs_by_id(inc_id)\n",
    "inc_run = inc_runs[-1]\n",
    "inc_runs"
   ]
  },
  {
   "cell_type": "code",
   "execution_count": null,
   "metadata": {},
   "outputs": [],
   "source": [
    "# We have access to all information: the config, the loss observed during\n",
    "#optimization, and all the additional information\n",
    "inc_loss = inc_run.loss\n",
    "inc_config = id2conf[inc_id]['config']\n",
    "inc_test_loss = inc_run.info['validation_loss']\n",
    "\n",
    "print('Best found configuration:')\n",
    "print(inc_config)\n",
    "print('It achieved accuracies of %f (train) and %f (validation).'%(1-inc_loss, 1-inc_test_loss))"
   ]
  },
  {
   "cell_type": "code",
   "execution_count": null,
   "metadata": {},
   "outputs": [],
   "source": [
    "# Let's plot the observed losses grouped by budget,\n",
    "hpvis.losses_over_time(all_runs)"
   ]
  },
  {
   "cell_type": "code",
   "execution_count": null,
   "metadata": {},
   "outputs": [],
   "source": [
    "# the number of concurent runs,\n",
    "hpvis.concurrent_runs_over_time(all_runs)"
   ]
  },
  {
   "cell_type": "code",
   "execution_count": null,
   "metadata": {},
   "outputs": [],
   "source": [
    "# and the number of finished runs.\n",
    "hpvis.finished_runs_over_time(all_runs)"
   ]
  },
  {
   "cell_type": "code",
   "execution_count": null,
   "metadata": {},
   "outputs": [],
   "source": [
    "# This one visualizes the spearman rank correlation coefficients of the losses\n",
    "# between different budgets.\n",
    "hpvis.correlation_across_budgets(result)"
   ]
  },
  {
   "cell_type": "code",
   "execution_count": null,
   "metadata": {},
   "outputs": [],
   "source": [
    "# For model based optimizers, one might wonder how much the model actually helped.\n",
    "# The next plot compares the performance of configs picked by the model vs. random ones\n",
    "hpvis.performance_histogram_model_vs_random(all_runs, id2conf)"
   ]
  }
 ],
 "metadata": {
  "kernelspec": {
   "display_name": "hopfield-tracking",
   "language": "python",
   "name": "hopfield-tracking"
  },
  "language_info": {
   "codemirror_mode": {
    "name": "ipython",
    "version": 3
   },
   "file_extension": ".py",
   "mimetype": "text/x-python",
   "name": "python",
   "nbconvert_exporter": "python",
   "pygments_lexer": "ipython3"
  }
 },
 "nbformat": 4,
 "nbformat_minor": 2
}
