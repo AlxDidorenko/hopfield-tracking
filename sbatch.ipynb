{
 "cells": [
  {
   "cell_type": "code",
   "execution_count": null,
   "metadata": {},
   "outputs": [],
   "source": [
    "# queue status\n",
    "!sinfo --long"
   ]
  },
  {
   "cell_type": "code",
   "execution_count": null,
   "metadata": {},
   "outputs": [],
   "source": [
    "# node status\n",
    "!sinfo --long -N"
   ]
  },
  {
   "cell_type": "code",
   "execution_count": null,
   "metadata": {},
   "outputs": [],
   "source": [
    "# CPU queue job list\n",
    "!squeue -p cpu --long"
   ]
  },
  {
   "cell_type": "code",
   "execution_count": null,
   "metadata": {},
   "outputs": [],
   "source": [
    "# prepare python env for jobs\n",
    "!sbatch --partition=cpu --time=0:10:00 --job-name=prepare-env --ntasks=2 run-hydra-env.sh"
   ]
  },
  {
   "cell_type": "code",
   "execution_count": null,
   "metadata": {},
   "outputs": [],
   "source": [
    "# prepare python env for jobs\n",
    "!sbatch --partition=tut --time=0:10:00 --job-name=prepare-env --ntasks=1 run-hydra-env.sh"
   ]
  },
  {
   "cell_type": "code",
   "execution_count": null,
   "metadata": {},
   "outputs": [],
   "source": [
    "%%bash\n",
    "sbatch --partition=cpu \\\n",
    "--ntasks=40 --ntasks-per-node=20 --time=24:00:00 \\\n",
    "--wrap 'n_workers=40 min_budget=50 max_budget=600 n_iterations=100 hopfield_steps=100 srun ./hydra-task.sh' \\\n",
    "--job-name=optimize --cpus-per-task=1 --mem-per-cpu=6000 --no-requeue \\\n",
    "--dependency=afterok:525446"
   ]
  },
  {
   "cell_type": "code",
   "execution_count": null,
   "metadata": {},
   "outputs": [],
   "source": [
    "%%bash\n",
    "sbatch --partition=cpu \\\n",
    "--ntasks=40 --ntasks-per-node=40 --time=4:00:00 \\\n",
    "--wrap 'n_workers=40 min_budget=200 max_budget=1200 n_iterations=100 hopfield_steps=100 dataset=BMaN srun ./hydra-task.sh' \\\n",
    "--job-name=optimize --cpus-per-task=1 --mem-per-cpu=3000 --no-requeue \\\n",
    "--dependency=afterok:526834"
   ]
  },
  {
   "cell_type": "code",
   "execution_count": null,
   "metadata": {},
   "outputs": [],
   "source": [
    "%%bash\n",
    "sbatch --partition=tut \\\n",
    "--ntasks=48 --ntasks-per-node=48 --time=2:00:00 \\\n",
    "--wrap 'n_workers=48 min_budget=200 max_budget=1200 n_iterations=100 hopfield_steps=100 srun ./hydra-task.sh' \\\n",
    "--job-name=optimize --cpus-per-task=1 --mem-per-cpu=4000 --no-requeue \\\n",
    "--dependency=afterok:526418"
   ]
  },
  {
   "cell_type": "code",
   "execution_count": null,
   "metadata": {},
   "outputs": [],
   "source": [
    "# CPU queue job list\n",
    "!squeue -p cpu --long\n",
    "# our job status\n",
    "!squeue --user $USER --long"
   ]
  },
  {
   "cell_type": "code",
   "execution_count": null,
   "metadata": {},
   "outputs": [],
   "source": [
    "# !scancel 524099"
   ]
  },
  {
   "cell_type": "code",
   "execution_count": null,
   "metadata": {},
   "outputs": [],
   "source": [
    "ls slurm-*.out"
   ]
  },
  {
   "cell_type": "code",
   "execution_count": null,
   "metadata": {},
   "outputs": [],
   "source": [
    "ls ./workdir/"
   ]
  },
  {
   "cell_type": "code",
   "execution_count": null,
   "metadata": {},
   "outputs": [],
   "source": [
    "# when did the job start and end?\n",
    "!cat slurm-526835.out | grep 2021"
   ]
  },
  {
   "cell_type": "markdown",
   "metadata": {},
   "source": [
    "**Don't forget to run hydra-setup.ipynb**"
   ]
  },
  {
   "cell_type": "code",
   "execution_count": null,
   "metadata": {},
   "outputs": [],
   "source": [
    "import pickle\n",
    "from matplotlib import pyplot as plt\n",
    "\n",
    "import hpbandster.visualization as hpvis\n",
    "\n",
    "with open('workdir/526835.pkl', 'rb') as fh:\n",
    "    result = pickle.load(fh)\n",
    "\n",
    "result"
   ]
  },
  {
   "cell_type": "code",
   "execution_count": null,
   "metadata": {},
   "outputs": [],
   "source": [
    "all_runs = result.get_all_runs()\n",
    "print(len(all_runs))\n",
    "all_runs[-1]"
   ]
  },
  {
   "cell_type": "code",
   "execution_count": null,
   "metadata": {},
   "outputs": [],
   "source": [
    "# get the 'dict' that translates config ids to the actual configurations\n",
    "id2conf = result.get_id2config_mapping()\n",
    "# id2conf[(0,0,0)]"
   ]
  },
  {
   "cell_type": "code",
   "execution_count": null,
   "metadata": {},
   "outputs": [],
   "source": [
    "# Here is how you get he incumbent (best configuration)\n",
    "inc_id = result.get_incumbent_id()\n",
    "inc_id"
   ]
  },
  {
   "cell_type": "code",
   "execution_count": null,
   "metadata": {},
   "outputs": [],
   "source": [
    "# let's grab the run on the highest budget\n",
    "inc_runs = result.get_runs_by_id(inc_id)\n",
    "inc_run = inc_runs[-1]\n",
    "inc_runs"
   ]
  },
  {
   "cell_type": "code",
   "execution_count": null,
   "metadata": {},
   "outputs": [],
   "source": [
    "# We have access to all information: the config, the loss observed during\n",
    "#optimization, and all the additional information\n",
    "inc_loss = inc_run.loss\n",
    "inc_config = id2conf[inc_id]['config']\n",
    "# inc_test_loss = inc_run.info['test_loss']\n",
    "\n",
    "print('Best found configuration:')\n",
    "print(inc_config)\n",
    "# print('It achieved accuracies of %f (train) and %f (test).'%(1-inc_loss, 1-inc_test_loss))"
   ]
  },
  {
   "cell_type": "code",
   "execution_count": null,
   "metadata": {},
   "outputs": [],
   "source": [
    "# Let's plot the observed losses grouped by budget,\n",
    "hpvis.losses_over_time(all_runs)"
   ]
  },
  {
   "cell_type": "code",
   "execution_count": null,
   "metadata": {},
   "outputs": [],
   "source": [
    "# the number of concurent runs,\n",
    "hpvis.concurrent_runs_over_time(all_runs)"
   ]
  },
  {
   "cell_type": "code",
   "execution_count": null,
   "metadata": {},
   "outputs": [],
   "source": [
    "# and the number of finished runs.\n",
    "hpvis.finished_runs_over_time(all_runs)"
   ]
  },
  {
   "cell_type": "code",
   "execution_count": null,
   "metadata": {},
   "outputs": [],
   "source": [
    "# This one visualizes the spearman rank correlation coefficients of the losses\n",
    "# between different budgets.\n",
    "hpvis.correlation_across_budgets(result)"
   ]
  },
  {
   "cell_type": "code",
   "execution_count": null,
   "metadata": {},
   "outputs": [],
   "source": [
    "# For model based optimizers, one might wonder how much the model actually helped.\n",
    "# The next plot compares the performance of configs picked by the model vs. random ones\n",
    "hpvis.performance_histogram_model_vs_random(all_runs, id2conf)"
   ]
  }
 ],
 "metadata": {
  "kernelspec": {
   "display_name": "hopfield-tracking",
   "language": "python",
   "name": "hopfield-tracking"
  },
  "language_info": {
   "codemirror_mode": {
    "name": "ipython",
    "version": 3
   },
   "file_extension": ".py",
   "mimetype": "text/x-python",
   "name": "python",
   "nbconvert_exporter": "python",
   "pygments_lexer": "ipython3"
  }
 },
 "nbformat": 4,
 "nbformat_minor": 2
}
