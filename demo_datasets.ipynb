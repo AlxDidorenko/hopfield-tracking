{
 "cells": [
  {
   "cell_type": "code",
   "execution_count": null,
   "id": "599ef3b8",
   "metadata": {},
   "outputs": [],
   "source": [
    "from datasets import get_hits_simple_one_event, get_hits_bman_one_event, get_hits_trackml_one_event, get_hits_trackml_one_event_by_volume, get_hits_spdsim_one_event\n",
    "from tracking.plot import plot_event\n",
    "from tracking.segment import gen_seg_track_layered, gen_seg_track_sequential"
   ]
  },
  {
   "cell_type": "code",
   "execution_count": null,
   "id": "6295f82f",
   "metadata": {},
   "outputs": [],
   "source": [
    "event = get_hits_simple_one_event()\n",
    "plot_event(event, gen_seg_track_sequential(event))"
   ]
  },
  {
   "cell_type": "code",
   "execution_count": null,
   "id": "970509e0",
   "metadata": {},
   "outputs": [],
   "source": [
    "event = get_hits_trackml_one_event_by_volume()\n",
    "plot_event(event, gen_seg_track_sequential(event))"
   ]
  },
  {
   "cell_type": "code",
   "execution_count": null,
   "id": "3a104aea",
   "metadata": {},
   "outputs": [],
   "source": [
    "event = get_hits_trackml_one_event()\n",
    "plot_event(event, gen_seg_track_sequential(event))"
   ]
  },
  {
   "cell_type": "code",
   "execution_count": null,
   "id": "521eb594",
   "metadata": {},
   "outputs": [],
   "source": [
    "event = get_hits_bman_one_event()\n",
    "plot_event(event, gen_seg_track_sequential(event))"
   ]
  },
  {
   "cell_type": "code",
   "execution_count": null,
   "id": "0150f21e-cead-4cee-b2bc-a9555a6d36a2",
   "metadata": {},
   "outputs": [],
   "source": [
    "event = get_hits_spdsim_one_event()\n",
    "plot_event(event, gen_seg_track_sequential(event))"
   ]
  }
 ],
 "metadata": {
  "colab": {
   "collapsed_sections": [],
   "name": " \"AOC_hopfield-tracking-bmn-event6-from-git\"",
   "provenance": []
  },
  "kernelspec": {
   "display_name": "Python 3 (ipykernel)",
   "language": "python",
   "name": "python3"
  },
  "language_info": {
   "codemirror_mode": {
    "name": "ipython",
    "version": 3
   },
   "file_extension": ".py",
   "mimetype": "text/x-python",
   "name": "python",
   "nbconvert_exporter": "python",
   "pygments_lexer": "ipython3"
  }
 },
 "nbformat": 4,
 "nbformat_minor": 5
}
