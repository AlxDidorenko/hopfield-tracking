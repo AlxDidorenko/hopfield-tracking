{
 "cells": [
  {
   "cell_type": "code",
   "execution_count": null,
   "id": "ba7e72c4-af8b-499d-9914-a50d8d58293d",
   "metadata": {},
   "outputs": [],
   "source": [
    "from datasets import get_hits_simple_one_event, get_hits_bman_one_event, get_hits_trackml_one_event, get_hits_trackml_one_event_by_volume, get_hits_trackml_one_event_by_module\n",
    "from tracking.plot import plot_hits"
   ]
  },
  {
   "cell_type": "code",
   "execution_count": null,
   "id": "a419910a-bc5a-4623-ac48-3a78043bc4a7",
   "metadata": {},
   "outputs": [],
   "source": [
    "plot_hits(get_hits_simple_one_event())"
   ]
  },
  {
   "cell_type": "code",
   "execution_count": null,
   "id": "c93cfb79-a609-41c0-9b13-2413314075e3",
   "metadata": {},
   "outputs": [],
   "source": [
    "plot_hits(get_hits_trackml_one_event_by_module())"
   ]
  },
  {
   "cell_type": "code",
   "execution_count": null,
   "id": "488c7dd6-929b-4acf-9eec-7f99b860dd88",
   "metadata": {},
   "outputs": [],
   "source": [
    "plot_hits(get_hits_trackml_one_event_by_volume())"
   ]
  },
  {
   "cell_type": "code",
   "execution_count": null,
   "id": "121b1bc8-5721-4948-8236-9534199417a0",
   "metadata": {},
   "outputs": [],
   "source": [
    "plot_hits(get_hits_trackml_one_event())"
   ]
  },
  {
   "cell_type": "code",
   "execution_count": null,
   "id": "855a454b-8ddf-41f1-a842-8281fc3b114f",
   "metadata": {},
   "outputs": [],
   "source": [
    "plot_hits(get_hits_bman_one_event())"
   ]
  }
 ],
 "metadata": {
  "colab": {
   "collapsed_sections": [],
   "name": " \"AOC_hopfield-tracking-bmn-event6-from-git\"",
   "provenance": []
  },
  "kernelspec": {
   "display_name": "Python 3 (ipykernel)",
   "language": "python",
   "name": "python3"
  },
  "language_info": {
   "codemirror_mode": {
    "name": "ipython",
    "version": 3
   },
   "file_extension": ".py",
   "mimetype": "text/x-python",
   "name": "python",
   "nbconvert_exporter": "python",
   "pygments_lexer": "ipython3"
  }
 },
 "nbformat": 4,
 "nbformat_minor": 5
}
