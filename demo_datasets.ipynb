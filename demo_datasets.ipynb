{
 "cells": [
  {
   "cell_type": "code",
   "execution_count": null,
   "id": "a8212f42",
   "metadata": {},
   "outputs": [],
   "source": [
    "from datasets import get_hits_simple_one_event, get_hits_bman_one_event, get_hits_trackml_one_event, get_hits_trackml_one_event_by_volume, get_hits_trackml_one_event_by_module\n",
    "from tracking.plot import plot_event\n",
    "from tracking.segment import gen_seg_track_layered, gen_seg_track_sequential"
   ]
  },
  {
   "cell_type": "code",
   "execution_count": null,
   "id": "432c90a9",
   "metadata": {},
   "outputs": [],
   "source": [
    "event = get_hits_simple_one_event()\n",
    "plot_event(event, gen_seg_track_sequential(event))"
   ]
  },
  {
   "cell_type": "code",
   "execution_count": null,
   "id": "5afe0b75",
   "metadata": {},
   "outputs": [],
   "source": [
    "event = get_hits_trackml_one_event_by_volume()\n",
    "plot_event(event, gen_seg_track_sequential(event))"
   ]
  },
  {
   "cell_type": "code",
   "execution_count": null,
   "id": "d126cf76",
   "metadata": {},
   "outputs": [],
   "source": [
    "event = get_hits_trackml_one_event()\n",
    "plot_event(event, gen_seg_track_sequential(event))"
   ]
  },
  {
   "cell_type": "code",
   "execution_count": null,
   "id": "85b990da",
   "metadata": {},
   "outputs": [],
   "source": [
    "event = get_hits_bman_one_event()\n",
    "plot_event(event, gen_seg_track_sequential(event))"
   ]
  }
 ],
 "metadata": {
  "colab": {
   "collapsed_sections": [],
   "name": " \"AOC_hopfield-tracking-bmn-event6-from-git\"",
   "provenance": []
  },
  "kernelspec": {
   "display_name": "Python 3 (ipykernel)",
   "language": "python",
   "name": "python3"
  },
  "language_info": {
   "codemirror_mode": {
    "name": "ipython",
    "version": 3
   },
   "file_extension": ".py",
   "mimetype": "text/x-python",
   "name": "python",
   "nbconvert_exporter": "python",
   "pygments_lexer": "ipython3"
  }
 },
 "nbformat": 4,
 "nbformat_minor": 5
}
