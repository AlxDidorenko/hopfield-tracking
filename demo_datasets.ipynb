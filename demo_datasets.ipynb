{
 "cells": [
  {
   "cell_type": "code",
   "execution_count": null,
   "id": "6295f82f",
   "metadata": {},
   "outputs": [],
   "source": [
    "from datasets import get_hits\n",
    "from tracking.plot import plot_event\n",
    "from tracking.segment import gen_seg_track_layered, gen_seg_track_sequential\n",
    "from vispy.scene import SceneCanvas\n",
    "\n",
    "canvas = SceneCanvas(bgcolor='white', size=(1000, 1500))\n",
    "grid = canvas.central_widget.add_grid()\n",
    "\n",
    "for i, dataset in enumerate(('simple', 'spdsim', 'bman', 'trackml_volume', 'trackml')):\n",
    "    event = get_hits(dataset, 1)\n",
    "    grid.add_widget(plot_event(event, gen_seg_track_sequential(event)).central_widget, row=i, col=0)\n",
    "canvas"
   ]
  },
  {
   "cell_type": "code",
   "execution_count": null,
   "id": "c5b0df62-3fdb-4f48-b255-ad2a8cc0f5d9",
   "metadata": {},
   "outputs": [],
   "source": [
    "event = get_hits('spdsim', 1)\n",
    "plot_event(event, gen_seg_track_sequential(event))"
   ]
  }
 ],
 "metadata": {
  "colab": {
   "collapsed_sections": [],
   "name": " \"AOC_hopfield-tracking-bmn-event6-from-git\"",
   "provenance": []
  },
  "kernelspec": {
   "display_name": "Python 3 (ipykernel)",
   "language": "python",
   "name": "python3"
  },
  "language_info": {
   "codemirror_mode": {
    "name": "ipython",
    "version": 3
   },
   "file_extension": ".py",
   "mimetype": "text/x-python",
   "name": "python",
   "nbconvert_exporter": "python",
   "pygments_lexer": "ipython3"
  }
 },
 "nbformat": 4,
 "nbformat_minor": 5
}
