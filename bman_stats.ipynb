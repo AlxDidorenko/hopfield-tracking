{
 "cells": [
  {
   "cell_type": "code",
   "execution_count": null,
   "id": "9128cccd",
   "metadata": {},
   "outputs": [],
   "source": [
    "import numpy as np\n",
    "import pandas as pd\n",
    "from datasets import input_BMaN\n",
    "events = input_BMaN() \n",
    "events.tail(3)"
   ]
  },
  {
   "cell_type": "code",
   "execution_count": null,
   "id": "aac69f66",
   "metadata": {},
   "outputs": [],
   "source": [
    "events[events.event_id==7].track_id.nunique()"
   ]
  },
  {
   "cell_type": "code",
   "execution_count": null,
   "id": "3c4f944b",
   "metadata": {},
   "outputs": [],
   "source": [
    "from matplotlib import pyplot as plt\n",
    "events.x.hist(bins=50)"
   ]
  },
  {
   "cell_type": "code",
   "execution_count": null,
   "id": "6be392a8",
   "metadata": {},
   "outputs": [],
   "source": [
    "size_ev = events.groupby(by=\"event_id\").size()\n",
    "size_ev"
   ]
  },
  {
   "cell_type": "code",
   "execution_count": null,
   "id": "d7e2ad92",
   "metadata": {},
   "outputs": [],
   "source": [
    "size_ev.hist(bins=100, log=True)"
   ]
  },
  {
   "cell_type": "code",
   "execution_count": null,
   "id": "21441941",
   "metadata": {},
   "outputs": [],
   "source": [
    "events.groupby(by=\"event_id\").size()"
   ]
  },
  {
   "cell_type": "code",
   "execution_count": null,
   "id": "9d0c3494",
   "metadata": {},
   "outputs": [],
   "source": [
    "events.track_id.nunique()"
   ]
  },
  {
   "cell_type": "code",
   "execution_count": null,
   "id": "779211ed",
   "metadata": {},
   "outputs": [],
   "source": [
    "events.groupby(by=\"event_id\").track_id.nunique().hist(bins=20)"
   ]
  },
  {
   "cell_type": "code",
   "execution_count": null,
   "id": "d4d7a8d0",
   "metadata": {},
   "outputs": [],
   "source": [
    "stats = pd.concat([size_ev.rename('hits'), events.groupby(by=\"event_id\").track_id.nunique().rename('tracks')], axis=1)\n",
    "stats.head()"
   ]
  },
  {
   "cell_type": "code",
   "execution_count": null,
   "id": "c0ee9969",
   "metadata": {},
   "outputs": [],
   "source": [
    "stats.plot.hexbin('hits', 'tracks', bins='log', xscale='log', figsize=(16, 10))"
   ]
  }
 ],
 "metadata": {
  "kernelspec": {
   "display_name": "hopfield-tracking",
   "language": "python",
   "name": "hopfield-tracking"
  },
  "language_info": {
   "codemirror_mode": {
    "name": "ipython",
    "version": 3
   },
   "file_extension": ".py",
   "mimetype": "text/x-python",
   "name": "python",
   "nbconvert_exporter": "python",
   "pygments_lexer": "ipython3"
  }
 },
 "nbformat": 4,
 "nbformat_minor": 5
}
