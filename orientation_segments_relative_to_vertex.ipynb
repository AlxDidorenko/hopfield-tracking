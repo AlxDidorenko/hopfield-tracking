{
 "cells": [
  {
   "cell_type": "code",
   "execution_count": null,
   "id": "3d155789",
   "metadata": {},
   "outputs": [],
   "source": [
    "import math\n",
    "\n",
    "def sum_of_squares(v):\n",
    "    return sum(vi ** 2 for vi in v)\n",
    "\n",
    "def magnitude(v):\n",
    "    return math.sqrt(sum_of_squares(v))\n",
    "\n",
    "def dot_product(v, w):\n",
    "    return sum(vi * wi for vi, wi in zip(v, w))"
   ]
  },
  {
   "cell_type": "code",
   "execution_count": null,
   "id": "07cefcc1",
   "metadata": {},
   "outputs": [],
   "source": [
    "import numpy as np\n",
    "from math import sqrt\n",
    "\n",
    "vertex = np.array([0,0,0])\n",
    "pos = np.array([[9.5, -sqrt(3)/2, 0], [10.5, sqrt(3)/2, 0]])\n",
    "seg = np.array([[0, 1]])"
   ]
  },
  {
   "cell_type": "code",
   "execution_count": null,
   "id": "dfe952d0",
   "metadata": {},
   "outputs": [],
   "source": [
    "def cosineo(seg, pos, vertex):\n",
    "    cosooo=[]        \n",
    "    for si, s in enumerate(seg):\n",
    "                \n",
    "        sum_of_squares((pos[s[1]]-pos[s[0]]))\n",
    "        len_seg = magnitude((pos[s[1]]-pos[s[0]]))\n",
    "        sum_of_squares((pos[s[0]]+(pos[s[1]]-pos[s[0]])/2)-vertex)\n",
    "        len_med = magnitude((pos[s[0]]+(pos[s[1]]-pos[s[0]])/2)-vertex)\n",
    "        \n",
    "        dot_seg_med = dot_product((pos[s[1]]-pos[s[0]]),(pos[s[0]]+(pos[s[1]]-pos[s[0]])/2)-vertex)\n",
    "        \n",
    "        coso = dot_seg_med / (len_seg * len_med)\n",
    "        \n",
    "        cosooo.append(coso)\n",
    "        \n",
    "    return cosooo\n",
    "cosooo=cosineo(seg, pos, vertex)\n",
    "print(cosooo)"
   ]
  }
 ],
 "metadata": {
  "kernelspec": {
   "display_name": "hopfield-tracking",
   "language": "python",
   "name": "hopfield-tracking"
  },
  "language_info": {
   "codemirror_mode": {
    "name": "ipython",
    "version": 3
   },
   "file_extension": ".py",
   "mimetype": "text/x-python",
   "name": "python",
   "nbconvert_exporter": "python",
   "pygments_lexer": "ipython3"
  }
 },
 "nbformat": 4,
 "nbformat_minor": 5
}
