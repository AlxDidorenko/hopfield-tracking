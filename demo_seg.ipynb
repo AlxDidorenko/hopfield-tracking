{
 "cells": [
  {
   "cell_type": "code",
   "execution_count": null,
   "id": "83f4f76d",
   "metadata": {},
   "outputs": [],
   "source": [
    "from segment.candidate import gen_seg_layered, gen_seg_all\n",
    "from segment.track import gen_seg_track_layered, gen_seg_track_sequential\n",
    "from datasets import get_hits\n",
    "from tracking.plot import plot_event, plot_seg_diff, _seg_tseg_view\n",
    "from vispy.scene import SceneCanvas\n",
    "\n",
    "canvas = SceneCanvas(bgcolor='white', size=(1000, 1500))\n",
    "grid = canvas.central_widget.add_grid()\n",
    "for i, dataset in enumerate(['simple', 'spdsim', 'bman']):\n",
    "    event = get_hits(dataset, 1)\n",
    "    for j, segmentor in enumerate([gen_seg_all, gen_seg_layered]):\n",
    "        grid.add_widget(_seg_tseg_view(event, segmentor(event), gen_seg_track_layered(event)), row=i, col=j)\n",
    "canvas"
   ]
  }
 ],
 "metadata": {
  "colab": {
   "collapsed_sections": [],
   "name": " \"AOC_hopfield-tracking-bmn-event6-from-git\"",
   "provenance": []
  },
  "kernelspec": {
   "display_name": "Python 3 (ipykernel)",
   "language": "python",
   "name": "python3"
  },
  "language_info": {
   "codemirror_mode": {
    "name": "ipython",
    "version": 3
   },
   "file_extension": ".py",
   "mimetype": "text/x-python",
   "name": "python",
   "nbconvert_exporter": "python",
   "pygments_lexer": "ipython3"
  }
 },
 "nbformat": 4,
 "nbformat_minor": 5
}
