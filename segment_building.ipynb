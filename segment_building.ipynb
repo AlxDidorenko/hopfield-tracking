{
 "cells": [
  {
   "cell_type": "code",
   "execution_count": null,
   "id": "ba7e72c4-af8b-499d-9914-a50d8d58293d",
   "metadata": {},
   "outputs": [],
   "source": [
    "import numpy as np\n",
    "import pandas as pd\n",
    "import holoviews as hv\n",
    "from holoviews import opts\n",
    "from matplotlib import pyplot as plt\n",
    "\n",
    "from tracking.segment import gen_segments_all\n",
    "from metrics.segments import mark_track_segments\n",
    "from datasets import get_hits_simple_one_event, get_hits_bman_one_event, get_hits_trackml_one_event, get_hits_trackml_one_event_by_volume, get_hits_trackml_one_event_by_module\n",
    "from tracking.plot import plot_segments_matplotlib, plot_segments_plotly, plot_tracks, plot_segments"
   ]
  },
  {
   "cell_type": "code",
   "execution_count": null,
   "id": "47dcc831",
   "metadata": {},
   "outputs": [],
   "source": [
    "hits = get_hits_simple_one_event(4)"
   ]
  },
  {
   "cell_type": "code",
   "execution_count": null,
   "id": "ed724dc2-28c1-48ad-a701-91db84c2ac9d",
   "metadata": {},
   "outputs": [],
   "source": [
    "pos = hits[['x', 'y', 'z']].values\n",
    "seg = gen_segments_all(hits)\n",
    "track_segments = mark_track_segments(hits)\n",
    "len(seg), len(track_segments)"
   ]
  },
  {
   "cell_type": "code",
   "execution_count": null,
   "id": "b5c7dba6-6f49-4906-b97c-7ea65a5eb52a",
   "metadata": {},
   "outputs": [],
   "source": [
    "from typing import Iterable\n",
    "def plot_tracks(hits: pd.DataFrame, kdims: Iterable = ('x', 'y', 'z')) -> hv.NdOverlay:\n",
    "    kdims = list(kdims)\n",
    "    tracks = {track: group.sort_values('track') for track, group in hits[hits.track != -1].groupby('track')}\n",
    "    return hv.NdOverlay(\n",
    "        {track: hv.Path3D(hits, kdims=kdims, label=str(track), group='tracks') for track, hits in tracks.items()}\n",
    "    )"
   ]
  },
  {
   "cell_type": "code",
   "execution_count": null,
   "id": "922f9781-b3a3-4128-b4fa-ba8525c31ee8",
   "metadata": {},
   "outputs": [],
   "source": [
    "hv.extension('plotly')\n",
    "(plot_segments(hits, seg)*plot_tracks(hits)).opts(\n",
    "    opts.Scatter3D('Hits.Real', color='green'),\n",
    "    opts.Scatter3D('Hits.Fake', color='black'),\n",
    "    opts.Path3D('Segments.Segments', color='rgba(0, 0, 0, 0.3)', show_legend=False),\n",
    "    opts.Path3D('Tracks', line_width=4),\n",
    "    opts.Overlay(width=800, height=800, show_legend=True),\n",
    "    opts.NdOverlay(width=800, height=800, show_legend=True),\n",
    ")"
   ]
  },
  {
   "cell_type": "code",
   "execution_count": null,
   "id": "840ee2a3-4897-456a-b19a-4c97ba2394b8",
   "metadata": {},
   "outputs": [],
   "source": [
    "hv.extension('matplotlib')\n",
    "(plot_segments(hits, seg)*plot_tracks(hits)).opts(\n",
    "    opts.Scatter3D('Hits.Real', c='green'),\n",
    "    opts.Scatter3D('Hits.Fake', c='black'),\n",
    "    opts.Path3D('Segments.Segments', color='black', alpha=0.2, show_legend=False),\n",
    "    opts.Path3D('Tracks', linewidth=3),\n",
    "    opts.Overlay(fig_size=400, show_legend=True),\n",
    "    opts.NdOverlay(fig_size=400, show_legend=True),\n",
    ")"
   ]
  }
 ],
 "metadata": {
  "colab": {
   "collapsed_sections": [],
   "name": " \"AOC_hopfield-tracking-bmn-event6-from-git\"",
   "provenance": []
  },
  "kernelspec": {
   "display_name": "Python 3",
   "language": "python",
   "name": "python3"
  },
  "language_info": {
   "codemirror_mode": {
    "name": "ipython",
    "version": 3
   },
   "file_extension": ".py",
   "mimetype": "text/x-python",
   "name": "python",
   "nbconvert_exporter": "python",
   "pygments_lexer": "ipython3"
  }
 },
 "nbformat": 4,
 "nbformat_minor": 5
}
