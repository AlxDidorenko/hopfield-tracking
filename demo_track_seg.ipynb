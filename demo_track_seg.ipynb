{
 "cells": [
  {
   "cell_type": "code",
   "execution_count": null,
   "id": "47dcc831",
   "metadata": {},
   "outputs": [],
   "source": [
    "from tracking.segment import gen_segments_all, gen_seg_track_layered, gen_seg_track_sequential\n",
    "from datasets import get_hits\n",
    "from tracking.plot import plot_event, plot_seg_diff\n",
    "from vispy.scene import SceneCanvas\n",
    "\n",
    "canvas = SceneCanvas(bgcolor='white', size=(1000, 1500))\n",
    "grid = canvas.central_widget.add_grid()\n",
    "\n",
    "for i, dataset in enumerate(('simple', 'spdsim', 'bman', 'trackml_volume', 'trackml')):\n",
    "    event = get_hits(dataset, 1)\n",
    "    grid.add_widget(plot_seg_diff(event, gen_seg_track_layered(event), gen_seg_track_sequential(event)).central_widget, row=i//2, col=i%2)\n",
    "canvas\n"
   ]
  },
  {
   "cell_type": "code",
   "execution_count": null,
   "id": "8021dbfe-55b8-40c0-8d0f-a3063d825b53",
   "metadata": {},
   "outputs": [],
   "source": [
    "event = get_hits('bman', 1)\n",
    "plot_seg_diff(event, gen_seg_track_layered(event), gen_seg_track_sequential(event))"
   ]
  }
 ],
 "metadata": {
  "colab": {
   "collapsed_sections": [],
   "name": " \"AOC_hopfield-tracking-bmn-event6-from-git\"",
   "provenance": []
  },
  "kernelspec": {
   "display_name": "Python 3 (ipykernel)",
   "language": "python",
   "name": "python3"
  },
  "language_info": {
   "codemirror_mode": {
    "name": "ipython",
    "version": 3
   },
   "file_extension": ".py",
   "mimetype": "text/x-python",
   "name": "python",
   "nbconvert_exporter": "python",
   "pygments_lexer": "ipython3"
  }
 },
 "nbformat": 4,
 "nbformat_minor": 5
}
