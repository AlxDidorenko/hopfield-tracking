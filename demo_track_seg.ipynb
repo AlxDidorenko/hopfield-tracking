{
 "cells": [
  {
   "cell_type": "code",
   "execution_count": null,
   "id": "ba7e72c4-af8b-499d-9914-a50d8d58293d",
   "metadata": {},
   "outputs": [],
   "source": [
    "from tracking.segment import gen_segments_all, gen_seg_track_layered, gen_seg_track_sequential\n",
    "from datasets import get_hits_simple_one_event, get_hits_bman_one_event, get_hits_trackml_one_event, get_hits_trackml_one_event_by_volume, get_hits_spdsim_one_event\n",
    "from tracking.plot import plot_event, plot_seg_diff"
   ]
  },
  {
   "cell_type": "code",
   "execution_count": null,
   "id": "47dcc831",
   "metadata": {},
   "outputs": [],
   "source": [
    "event = get_hits_spdsim_one_event()\n",
    "plot_seg_diff(event, gen_seg_track_layered(event), gen_seg_track_sequential(event))"
   ]
  },
  {
   "cell_type": "code",
   "execution_count": null,
   "id": "ed724dc2-28c1-48ad-a701-91db84c2ac9d",
   "metadata": {},
   "outputs": [],
   "source": [
    "event = get_hits_simple_one_event()\n",
    "plot_seg_diff(event, gen_seg_track_layered(event), gen_seg_track_sequential(event))"
   ]
  },
  {
   "cell_type": "code",
   "execution_count": null,
   "id": "c59bdfb8-7dc4-4ee3-a701-f969ed057939",
   "metadata": {},
   "outputs": [],
   "source": [
    "event = get_hits_bman_one_event()\n",
    "plot_seg_diff(event, gen_seg_track_layered(event), gen_seg_track_sequential(event))"
   ]
  },
  {
   "cell_type": "code",
   "execution_count": null,
   "id": "5d86a9ae-8bdf-4043-abcb-90eabdad0ace",
   "metadata": {},
   "outputs": [],
   "source": [
    "event = get_hits_trackml_one_event_by_volume()\n",
    "plot_seg_diff(event, gen_seg_track_sequential(event), gen_seg_track_layered(event))"
   ]
  },
  {
   "cell_type": "code",
   "execution_count": null,
   "id": "8021dbfe-55b8-40c0-8d0f-a3063d825b53",
   "metadata": {},
   "outputs": [],
   "source": [
    "event = get_hits_trackml_one_event()\n",
    "plot_seg_diff(event, gen_seg_track_layered(event), gen_seg_track_sequential(event))"
   ]
  }
 ],
 "metadata": {
  "colab": {
   "collapsed_sections": [],
   "name": " \"AOC_hopfield-tracking-bmn-event6-from-git\"",
   "provenance": []
  },
  "kernelspec": {
   "display_name": "Python 3 (ipykernel)",
   "language": "python",
   "name": "python3"
  },
  "language_info": {
   "codemirror_mode": {
    "name": "ipython",
    "version": 3
   },
   "file_extension": ".py",
   "mimetype": "text/x-python",
   "name": "python",
   "nbconvert_exporter": "python",
   "pygments_lexer": "ipython3"
  }
 },
 "nbformat": 4,
 "nbformat_minor": 5
}
