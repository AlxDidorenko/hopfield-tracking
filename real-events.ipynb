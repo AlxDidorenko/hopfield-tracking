{
 "cells": [
  {
   "cell_type": "code",
   "execution_count": null,
   "id": "0f14320b",
   "metadata": {},
   "outputs": [],
   "source": [
    "import holoviews as hv\n",
    "import numpy as np\n",
    "import pandas as pd\n",
    "from holoviews import opts\n",
    "\n",
    "from cross import cross_energy_matrix\n",
    "from curvature import curvature_energy_matrix, segment_adjacent_pairs\n",
    "from reconstruct import annealing_curve, update_layer_grad, energy, energy_gradient, should_stop\n",
    "from plot import make_tracks_3d\n",
    "from segment import gen_segments_all\n"
   ]
  },
  {
   "cell_type": "code",
   "execution_count": null,
   "id": "ab26db77",
   "metadata": {},
   "outputs": [],
   "source": [
    "import pickle\n",
    "\n",
    "with open('workdir/516391.pkl', 'rb') as fh:\n",
    "    result = pickle.load(fh)\n",
    "\n",
    "best_run = result.get_runs_by_id(result.get_incumbent_id())[-1]\n",
    "best_run"
   ]
  },
  {
   "cell_type": "code",
   "execution_count": null,
   "id": "3272ed21",
   "metadata": {},
   "outputs": [],
   "source": [
    "config = result.get_id2config_mapping()[best_run.config_id]['config']\n",
    "THRESHOLD = config['threshold']\n",
    "config"
   ]
  },
  {
   "cell_type": "code",
   "execution_count": null,
   "id": "834cfb1c",
   "metadata": {},
   "outputs": [],
   "source": [
    "config['alpha']= 30\n",
    "# config['anneal_steps']= 87\n",
    "# config['bias']= -5.660335705916375\n",
    "# config['cosine_min_allowed']= -0.8360317823554324\n",
    "# config['cosine_min_rewarded']=   0.934519555232472\n",
    "# config['osine_power'] = 19.3757535534433   \n",
    "# config['distance_power'] = 0.10073330110616618   \n",
    "# config['dropout']=0    \n",
    "# config['gamma']=4.820250024960375\n",
    "# config['learning_rate']=0.4571332689260482\n",
    "# config['max_hits']=800\n",
    "# config['tarting_act']=0.8709695770981818\n",
    "# config['threshold']=0.5\n",
    "# config['tmax']=65.54559678237014\n",
    "# config['tmin']=1.0\n",
    "# config['total_steps']=100\n",
    "# config['config_info']='model_based_pick'\n",
    "# config"
   ]
  },
  {
   "cell_type": "code",
   "execution_count": null,
   "id": "cf1db79c",
   "metadata": {},
   "outputs": [],
   "source": [
    "simdata = pd.read_csv('simdata_ArPb_3.2AGeV_mb_1.zip', sep='\\t',\n",
    "                      names=['event_id', 'x', 'y', 'z', 'detector_id', 'station_id', 'track_id', 'px', 'py', 'pz', 'vx', 'vy', 'vz'])\n",
    "simdata.tail(3)"
   ]
  },
  {
   "cell_type": "code",
   "execution_count": null,
   "id": "6a9ea4ba",
   "metadata": {},
   "outputs": [],
   "source": [
    "len(set(simdata.event_id))"
   ]
  },
  {
   "cell_type": "code",
   "execution_count": null,
   "id": "e37827c9",
   "metadata": {},
   "outputs": [],
   "source": [
    "simdata['layer'] = simdata.detector_id * 3 + simdata.station_id\n",
    "event = simdata[simdata.event_id==6]\n",
    "event = event[event.track_id != -1]\n",
    "hits = event.rename(columns={'track_id': 'track'})[['x', 'y', 'z', 'layer', 'track']].reset_index().drop(columns='index')\n",
    "hits"
   ]
  },
  {
   "cell_type": "code",
   "execution_count": null,
   "id": "f4ef3c64",
   "metadata": {},
   "outputs": [],
   "source": [
    "# hits.to_csv('event6.csv', index=False)\n",
    "# hits = pd.read_csv('event6.csv')\n",
    "# hits"
   ]
  },
  {
   "cell_type": "code",
   "execution_count": null,
   "id": "6f3ffb21",
   "metadata": {},
   "outputs": [],
   "source": [
    "def mark_track_segments(hits):\n",
    "    track_segments = []\n",
    "    for track, g in hits.groupby('track'):\n",
    "        if track >= 0:\n",
    "            for i in range(min(g.layer), max(g.layer)):\n",
    "                for a in g[g.layer == i].index:\n",
    "                    for b in g[g.layer == i + 1].index:\n",
    "                        track_segments.append((a, b))\n",
    "    return track_segments\n",
    "track_segments = mark_track_segments(hits)\n",
    "track_segments"
   ]
  },
  {
   "cell_type": "code",
   "execution_count": null,
   "id": "4c277109",
   "metadata": {},
   "outputs": [],
   "source": [
    "hits[hits.track==85]"
   ]
  },
  {
   "cell_type": "code",
   "execution_count": null,
   "id": "01e907d1",
   "metadata": {},
   "outputs": [],
   "source": [
    "def build_tracks(hits):\n",
    "    tracks = []\n",
    "    for track, g in hits.groupby('track'):\n",
    "        if track >= 0:\n",
    "            tracks.append(list(g.index))\n",
    "    return tracks\n",
    "build_tracks(hits)"
   ]
  },
  {
   "cell_type": "code",
   "execution_count": null,
   "id": "7ec1f10a",
   "metadata": {},
   "outputs": [],
   "source": [
    "def build_segmented_tracks(hits):\n",
    "    tracks = []\n",
    "    for track, g in hits.groupby('track'):\n",
    "        if track >= 0:\n",
    "            segments = []\n",
    "            for i in range(min(g.layer), max(g.layer)):\n",
    "                for a in g[g.layer == i].index:\n",
    "                    for b in g[g.layer == i + 1].index:\n",
    "                        segments.append((a, b))\n",
    "            tracks.append(segments)\n",
    "    return tracks\n",
    "all_tracks = build_segmented_tracks(hits)\n",
    "all_tracks"
   ]
  },
  {
   "cell_type": "code",
   "execution_count": null,
   "id": "fb2ed8d1",
   "metadata": {},
   "outputs": [],
   "source": [
    "np.all(np.array([1,2,3]) == (1,2,3))"
   ]
  },
  {
   "cell_type": "code",
   "execution_count": null,
   "id": "1cf9a850",
   "metadata": {},
   "outputs": [],
   "source": [
    "from typing import List, Tuple\n",
    "def enumerate_segmented_track(track: List[Tuple[int, int]], seg: np.array) -> List[int]:\n",
    "    nom_seg=[]\n",
    "    for step in track:  \n",
    "#         print(step)\n",
    "        for si, s in enumerate(seg):\n",
    "#             print(s, step, s == step, (s[0] == step[0]) and (s[1] == step[1]))\n",
    "            if (s[0] == step[0]) and (s[1] == step[1]):\n",
    "                nom_seg.append(si)  \n",
    "#                 print(nom_seg)\n",
    "    return nom_seg\n",
    "\n",
    "# test 1\n",
    "test_tracks = enumerate_segmented_track(\n",
    "    [(21, 44), (44, 79), (79, 123), (123, 164), (164, 190), (190, 209), (209, 228), (228, 242)],\n",
    "    np.array([(21, 44), (44, 79), (79, 123), (123, 164), (164, 190), (190, 209), (209, 228), (228, 242)])\n",
    ")\n",
    "print(test_tracks)\n",
    "assert test_tracks == [0, 1, 2, 3, 4, 5, 6, 7]\n",
    "\n",
    "# test 2\n",
    "test_tracks = enumerate_segmented_track([(0, 1), (1, 3)], np.array([(0, 1), (0, 2), (1, 3)]))\n",
    "print(test_tracks)\n",
    "assert test_tracks == [0, 2]"
   ]
  },
  {
   "cell_type": "code",
   "execution_count": null,
   "id": "a4565c8a",
   "metadata": {},
   "outputs": [],
   "source": [
    "track_segments = mark_track_segments(hits)\n",
    "len(track_segments)"
   ]
  },
  {
   "cell_type": "code",
   "execution_count": null,
   "id": "5b6a3b67",
   "metadata": {},
   "outputs": [],
   "source": [
    "pos = hits[['x', 'y', 'z']].values"
   ]
  },
  {
   "cell_type": "code",
   "execution_count": null,
   "id": "c90e831c",
   "metadata": {},
   "outputs": [],
   "source": [
    "seg = gen_segments_all(hits)\n",
    "len(track_segments), len(seg)"
   ]
  },
  {
   "cell_type": "code",
   "execution_count": null,
   "id": "2bb9dd35",
   "metadata": {},
   "outputs": [],
   "source": [
    "perfect_act = np.zeros(len(seg))\n",
    "track_segment_set = set(tuple(s) for s in track_segments)\n",
    "is_in_track = np.array([tuple(s) in track_segment_set for s in seg])\n",
    "perfect_act[is_in_track] = 1"
   ]
  },
  {
   "cell_type": "code",
   "execution_count": null,
   "id": "3bcda0ec",
   "metadata": {},
   "outputs": [],
   "source": [
    "pairs = segment_adjacent_pairs(seg)\n",
    "\n",
    "crossing_matrix = cross_energy_matrix(seg, pos, config['cosine_min_allowed'])\n",
    "\n",
    "curvature_matrix = curvature_energy_matrix(pos, seg, pairs,\n",
    "                                           config['cosine_power'], config['cosine_min_rewarded'],\n",
    "                                           config['distance_power'])\n",
    "\n",
    "e_matrix = config['alpha'] / 2 * crossing_matrix - config['gamma'] / 2 * curvature_matrix"
   ]
  },
  {
   "cell_type": "code",
   "execution_count": null,
   "id": "b7657d8e",
   "metadata": {},
   "outputs": [],
   "source": [
    "temp_curve = annealing_curve(config['tmin'], config['tmax'],\n",
    "                             config['anneal_steps'], config['total_steps'] - config['anneal_steps'])\n",
    "\n",
    "tcdf = pd.DataFrame({'temp': temp_curve})\n",
    "tcdf.index.name = 'step'\n",
    "tcdf.plot()"
   ]
  },
  {
   "cell_type": "code",
   "execution_count": null,
   "id": "a0899c5e",
   "metadata": {},
   "outputs": [],
   "source": [
    "act = np.full(len(seg), config['starting_act'])\n",
    "acts = [act.copy()]\n",
    "for i, t in enumerate(temp_curve):\n",
    "    grad = energy_gradient(e_matrix, act)\n",
    "    update_layer_grad(act, grad, t, config['dropout'], config['learning_rate'], config['bias'])\n",
    "    acts.append(act.copy())"
   ]
  },
  {
   "cell_type": "code",
   "execution_count": null,
   "id": "f8dbcc45",
   "metadata": {},
   "outputs": [],
   "source": [
    "def found_tracks(seg: np.ndarray, act: np.ndarray, all_tracks: List[List[Tuple[int, int]]]) -> int:\n",
    "    \n",
    "    kol_act_track=0\n",
    "    all_kol_track=0\n",
    "    end_track=False\n",
    "    i=0\n",
    "    lseg=[]\n",
    "    for ti, t in (enumerate(all_tracks)):\n",
    "        kol_act_seg=0\n",
    "        print (ti)\n",
    "        print (t)\n",
    "        all_kol_track+=1\n",
    "        end_track = True\n",
    "        Track_seg=enumerate_segmented_track(t,seg)\n",
    "        print(Track_seg)\n",
    "        print(act[Track_seg].round(3))\n",
    "        for s in Track_seg:\n",
    "            if (act[s] >= 0.5):\n",
    "                kol_act_seg+=1\n",
    "            \n",
    "        if kol_act_seg==len(Track_seg):    \n",
    "            kol_act_track+=1\n",
    "                \n",
    "        print(\"All active segments    \"+str(kol_act_seg))\n",
    "        print(\"All active tracks      \"+str(kol_act_track))\n",
    "        print(\"All tracks for exp BM@N \"+str(all_kol_track))\n",
    "    return kol_act_track\n",
    "\n",
    "\n",
    "\n",
    "found_tracks(seg,act,all_tracks)"
   ]
  },
  {
   "cell_type": "code",
   "execution_count": null,
   "id": "7bf5c8a2",
   "metadata": {},
   "outputs": [],
   "source": [
    "energy_history = []\n",
    "for act in acts:\n",
    "    ef = config['alpha'] / 2 * energy(crossing_matrix, act)\n",
    "    ec = config['gamma'] / 2 * energy(curvature_matrix, act) # inverted to positive\n",
    "    energy_history.append([ec, ef, ec+ef])\n",
    "energy_history = pd.DataFrame(energy_history, columns=['E_curve', 'E_fork', 'E'])\n",
    "energy_history.index.name = 'step'\n",
    "energy_history.plot(logy=True)\n",
    "pass"
   ]
  },
  {
   "cell_type": "code",
   "execution_count": null,
   "id": "d08113f0",
   "metadata": {},
   "outputs": [],
   "source": [
    "from sklearn.metrics import precision_score, recall_score, f1_score, roc_auc_score, average_precision_score\n",
    "small_history = pd.DataFrame([\n",
    "    (\n",
    "        precision_score(perfect_act, act>THRESHOLD, zero_division=0),\n",
    "        recall_score(perfect_act, act>THRESHOLD, zero_division=0),\n",
    "        f1_score(perfect_act, act>THRESHOLD, zero_division=0),\n",
    "        roc_auc_score(perfect_act, act),\n",
    "        average_precision_score(perfect_act, act),\n",
    "        act.mean(),\n",
    "        ((act - perfect_act) ** 2).mean()\n",
    "    ) for act in acts],\n",
    "    columns=['precision', 'recall', 'f1', 'roc_auc', 'ap', 'mean_act', 'dist_perfect'])\n",
    "small_history.index.name = 'step'\n",
    "small_history.plot()"
   ]
  },
  {
   "cell_type": "code",
   "execution_count": null,
   "id": "a7322ba4",
   "metadata": {},
   "outputs": [],
   "source": [
    "from sklearn.metrics import precision_recall_curve, PrecisionRecallDisplay, average_precision_score\n",
    "average_precision = average_precision_score(perfect_act, act)\n",
    "precision, recall, _ = precision_recall_curve(perfect_act, act)\n",
    "PrecisionRecallDisplay(precision=precision, recall=recall, average_precision=average_precision).plot()"
   ]
  },
  {
   "cell_type": "code",
   "execution_count": null,
   "id": "9efdd2ba",
   "metadata": {},
   "outputs": [],
   "source": [
    "from sklearn.metrics import roc_curve, RocCurveDisplay\n",
    "fpr, tpr, _ = roc_curve(perfect_act, act)\n",
    "RocCurveDisplay(fpr=fpr, tpr=tpr).plot()"
   ]
  },
  {
   "cell_type": "code",
   "execution_count": null,
   "id": "a6ff0296",
   "metadata": {},
   "outputs": [],
   "source": [
    "from sklearn.metrics import det_curve, DetCurveDisplay\n",
    "fpr, fnr, _ = det_curve(perfect_act, act)\n",
    "DetCurveDisplay(fpr=fpr, fnr=fnr).plot()"
   ]
  },
  {
   "cell_type": "code",
   "execution_count": null,
   "id": "837b0241",
   "metadata": {},
   "outputs": [],
   "source": [
    "n_steps = min(16, len(acts))\n",
    "steps = np.linspace(0, len(acts) - 1, n_steps, dtype=int)\n",
    "\n",
    "tracks_3d = []\n",
    "tracks_projection = []\n",
    "tracks_by_track = []\n",
    "for i in steps:\n",
    "    tp, fp, tn, fn = make_tracks_3d(pos, seg, acts[i], perfect_act, THRESHOLD)\n",
    "    vdims = ['act', 'perfect_act', 'positive', 'true']\n",
    "    xyz = hv.Overlay([\n",
    "        hv.Scatter3D(hits[hits.track == -1], kdims=['x', 'y', 'z'], label='noise', group='hits'),\n",
    "        hv.Scatter3D(hits[hits.track != -1], kdims=['x', 'y', 'z'], label='hits', group='hits'),\n",
    "        hv.Path3D(tp, vdims=vdims, label='tp', group='tracks'),\n",
    "        hv.Path3D(fp, vdims=vdims, label='fp', group='tracks'),\n",
    "        hv.Path3D(fn, vdims=vdims, label='fn', group='tracks')\n",
    "    ])\n",
    "    tracks_3d.append(xyz)\n",
    "\n",
    "    projection = hv.Points(hits[hits.track != -1], kdims=['x', 'y'], label='hits', group='hits') * \\\n",
    "                 hv.Points(hits[hits.track == -1], kdims=['x', 'y'], label='noise', group='hits') * \\\n",
    "                 hv.Path(tp, kdims=['x', 'y'], vdims=vdims, label='tp', group='tracks') * \\\n",
    "                 hv.Path(fp, kdims=['x', 'y'], vdims=vdims, label='fp', group='tracks') * \\\n",
    "                 hv.Path(fn, kdims=['x', 'y'], vdims=vdims, label='fn', group='tracks')\n",
    "    tracks_projection.append(projection)\n",
    "\n",
    "    nodes = hv.Nodes(hits, kdims=['track', 'layer', 'index'])\n",
    "    no_tn = np.logical_or(acts[i] > THRESHOLD, perfect_act > THRESHOLD)\n",
    "    graph = hv.Graph(((*seg[no_tn].transpose(), acts[i][no_tn], perfect_act[no_tn]), nodes),\n",
    "                     vdims=['act', 'perfect_act'])\n",
    "    tracks_by_track.append(hv.Overlay([graph]))\n"
   ]
  },
  {
   "cell_type": "code",
   "execution_count": null,
   "id": "6ed9715b",
   "metadata": {},
   "outputs": [],
   "source": [
    "hv.extension('matplotlib')\n",
    "tracks_3d[-1].opts(\n",
    "    opts.Scatter3D(c='black'),\n",
    "    opts.Scatter3D('Hits.Noise', c='red'),\n",
    "    opts.Path3D(color='black', show_legend=True),\n",
    "    opts.Path3D('Tracks.fp', color='red'),\n",
    "    opts.Path3D('Tracks.fn', color='cyan'),\n",
    "    opts.Overlay(legend_position='right', fig_size=400),\n",
    ")"
   ]
  },
  {
   "cell_type": "code",
   "execution_count": null,
   "id": "c28ffa23",
   "metadata": {},
   "outputs": [],
   "source": [
    "hv.extension('bokeh')\n",
    "track_history = \\\n",
    "    hv.HoloMap(\n",
    "        {s: hv.Histogram(np.histogram(acts[s][perfect_act > THRESHOLD], bins=32, range=(0, 1))) for s in\n",
    "         np.linspace(0, len(acts) - 1, min(64, len(acts)), dtype=int)},\n",
    "        kdims='step', group=\"Activation\", label=\"On track\") + \\\n",
    "    hv.HoloMap(\n",
    "        {s: hv.Histogram(np.histogram(acts[s][perfect_act < THRESHOLD], bins=32, range=(0, 1))) for s in\n",
    "         np.linspace(0, len(acts) - 1, min(64, len(acts)), dtype=int)},\n",
    "        kdims='step', group=\"Activation\", label=\"Off track\")\n",
    "\n",
    "# track_history.opts(\n",
    "#     opts.Histogram(width=400, height=400)\n",
    "# )"
   ]
  },
  {
   "cell_type": "code",
   "execution_count": null,
   "id": "e0c4bb39",
   "metadata": {},
   "outputs": [],
   "source": [
    "hv.extension('plotly')\n",
    "tracks_3d[-1].opts(\n",
    "    opts.Scatter3D(size=2, color='black'),\n",
    "    opts.Scatter3D('Hits.Noise', color='red'),\n",
    "    opts.Path3D(color='black'),\n",
    "    opts.Path3D('Tracks.fp', color='red'),\n",
    "    opts.Path3D('Tracks.fn', color='cyan'),\n",
    "    opts.Overlay(width=800, height=800)\n",
    ")"
   ]
  },
  {
   "cell_type": "code",
   "execution_count": null,
   "id": "c5fe98ee",
   "metadata": {},
   "outputs": [],
   "source": [
    "hv.extension('matplotlib')\n",
    "track_history = hv.NdLayout(\n",
    "    {s: tracks_3d[i] for i, s in enumerate(steps)},\n",
    "    kdims='step'\n",
    ")\n",
    "track_history.opts(\n",
    "    opts.Scatter3D(c='black'),\n",
    "    opts.Scatter3D('Hits.Noise', c='red'),\n",
    "    opts.Path3D(color='black', show_legend=True),\n",
    "    opts.Path3D('Tracks.fp', color='red'),\n",
    "    opts.Path3D('Tracks.fn', color='cyan'),\n",
    "    opts.Overlay(legend_position='right'),\n",
    "    opts.NdLayout(fig_size=200)\n",
    ").cols(4)"
   ]
  },
  {
   "cell_type": "code",
   "execution_count": null,
   "id": "c62e2edd",
   "metadata": {},
   "outputs": [],
   "source": [
    "hv.extension('plotly')\n",
    "track_history = hv.HoloMap(\n",
    "    {s: tracks_3d[i] for i, s in enumerate(steps)},\n",
    "    kdims='step'\n",
    ")\n",
    "track_history.opts(\n",
    "    opts.Scatter3D(size=2, color='black'),\n",
    "    opts.Scatter3D('Hits.Noise', color='red'),\n",
    "    opts.Path3D(color='black'),\n",
    "    opts.Path3D('Tracks.fp', color='red'),\n",
    "    opts.Path3D('Tracks.fn', color='cyan'),\n",
    "    opts.Overlay(width=700, height=700)\n",
    ")\n",
    "# hv.save(track_history, 'track_history_3d.html', fmt='widgets')"
   ]
  },
  {
   "cell_type": "code",
   "execution_count": null,
   "id": "b3452ee9",
   "metadata": {},
   "outputs": [],
   "source": [
    "# hv.extension('matplotlib')\n",
    "# track_history = hv.HoloMap(\n",
    "#     {s: tracks_projection[i] for i, s in enumerate(steps)},\n",
    "#     kdims='step'\n",
    "# )\n",
    "# track_history.opts(\n",
    "#     opts.Points(color='black'),\n",
    "#     opts.Points('Hits.Noise', color='black'),\n",
    "#     opts.Path(color='black', show_legend=True),\n",
    "#     opts.Path('Tracks.fp', color='red'),\n",
    "#     opts.Path('Tracks.fn', color='cyan'),\n",
    "#     opts.Overlay(legend_position='right', fig_size=256),\n",
    "# )"
   ]
  },
  {
   "cell_type": "code",
   "execution_count": null,
   "id": "8aaeb3c6",
   "metadata": {},
   "outputs": [],
   "source": [
    "hv.extension('bokeh')\n",
    "track_history = hv.HoloMap(\n",
    "    {s: tracks_projection[i] for i, s in enumerate(steps)},\n",
    "    kdims='step'\n",
    ")\n",
    "track_history.opts(\n",
    "    opts.Points(color='black', size=4),\n",
    "    opts.Points('Hits.Noise', color='red'),\n",
    "    opts.Path(color='black', show_legend=True),\n",
    "    opts.Path('Tracks.fp', color='red'),\n",
    "    opts.Path('Tracks.fn', color='cyan'),\n",
    "    opts.Overlay(legend_position='right', width=700, height=700)\n",
    ")\n"
   ]
  }
 ],
 "metadata": {
  "kernelspec": {
   "display_name": "hopfield-tracking",
   "language": "python",
   "name": "hopfield-tracking"
  },
  "language_info": {
   "codemirror_mode": {
    "name": "ipython",
    "version": 3
   },
   "file_extension": ".py",
   "mimetype": "text/x-python",
   "name": "python",
   "nbconvert_exporter": "python",
   "pygments_lexer": "ipython3"
  }
 },
 "nbformat": 4,
 "nbformat_minor": 5
}
