{
 "cells": [
  {
   "cell_type": "code",
   "execution_count": null,
   "id": "aee448b1",
   "metadata": {},
   "outputs": [],
   "source": [
    "conda env create -f env-jhub.yml"
   ]
  },
  {
   "cell_type": "code",
   "execution_count": null,
   "id": "dd7c4df1",
   "metadata": {},
   "outputs": [],
   "source": [
    "!mkdir -p ~/bin\n",
    "!ln -s venv/bin/nb-clean ~/bin/nb-clean"
   ]
  },
  {
   "cell_type": "code",
   "execution_count": null,
   "id": "ec8976c2-28c3-4f6d-90a9-d5fd3d165da2",
   "metadata": {},
   "outputs": [],
   "source": [
    "!~/.conda/envs/hopfield-tracking/bin/pytest"
   ]
  },
  {
   "cell_type": "code",
   "execution_count": null,
   "id": "045d72be-9dfa-45d9-b97b-9ba63e551a21",
   "metadata": {},
   "outputs": [],
   "source": [
    "!~/.conda/envs/hopfield-tracking/bin/ipython kernel install \\\n",
    "--user --name hopfield-tracking --display-name \"Python 3.10 (hopfield-tracking)\""
   ]
  },
  {
   "cell_type": "code",
   "execution_count": null,
   "id": "c8a9a14a-5260-45b2-ac08-926a7f1c5d03",
   "metadata": {},
   "outputs": [],
   "source": [
    "!~/.conda/envs/hopfield-tracking/bin/pip install jupyter_rfb --user"
   ]
  }
 ],
 "metadata": {
  "kernelspec": {
   "display_name": "Python 3 (ipykernel)",
   "language": "python",
   "name": "python3"
  },
  "language_info": {
   "codemirror_mode": {
    "name": "ipython",
    "version": 3
   },
   "file_extension": ".py",
   "mimetype": "text/x-python",
   "name": "python",
   "nbconvert_exporter": "python",
   "pygments_lexer": "ipython3"
  }
 },
 "nbformat": 4,
 "nbformat_minor": 5
}
