{
 "cells": [
  {
   "cell_type": "code",
   "execution_count": null,
   "id": "483a642b",
   "metadata": {},
   "outputs": [],
   "source": [
    "!sh hydra-env.sh"
   ]
  },
  {
   "cell_type": "code",
   "execution_count": null,
   "id": "dd7c4df1",
   "metadata": {},
   "outputs": [],
   "source": [
    "!/tmp/$USER/miniconda3/envs/hopfield-tracking/bin/pytest"
   ]
  }
 ],
 "metadata": {
  "kernelspec": {
   "display_name": "Python 3",
   "language": "python",
   "name": "python3"
  },
  "language_info": {
   "codemirror_mode": {
    "name": "ipython",
    "version": 3
   },
   "file_extension": ".py",
   "mimetype": "text/x-python",
   "name": "python",
   "nbconvert_exporter": "python",
   "pygments_lexer": "ipython3"
  }
 },
 "nbformat": 4,
 "nbformat_minor": 5
}
