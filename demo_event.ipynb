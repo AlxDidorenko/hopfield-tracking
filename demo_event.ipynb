{
 "cells": [
  {
   "cell_type": "code",
   "execution_count": null,
   "id": "ba7e72c4-af8b-499d-9914-a50d8d58293d",
   "metadata": {},
   "outputs": [],
   "source": [
    "import numpy as np\n",
    "import pandas as pd\n",
    "import holoviews as hv\n",
    "from holoviews import opts\n",
    "from matplotlib import pyplot as plt\n",
    "\n",
    "from hopfield.iterate import hopfield_history, construct_energy_matrix, construct_anneal\n",
    "from hopfield.energy import energy\n",
    "from hopfield.plot import make_tracks_3d\n",
    "\n",
    "from tracking.segment import gen_segments_all\n",
    "from datasets.simple import get_hits_simple_one_event\n",
    "from datasets.bman import get_hits_bman_one_event\n",
    "from datasets.trackml import get_hits_trackml_one_event, get_hits_trackml_one_event_by_volume, get_hits_trackml_one_event_by_module\n",
    "from metrics.segments import mark_track_segments"
   ]
  },
  {
   "cell_type": "code",
   "execution_count": null,
   "id": "47dcc831",
   "metadata": {},
   "outputs": [],
   "source": [
    "hits = get_hits_simple_one_event()\n",
    "hits"
   ]
  },
  {
   "cell_type": "code",
   "execution_count": null,
   "id": "8c308128-7fa6-48d0-8c48-64d0cc3785d7",
   "metadata": {},
   "outputs": [],
   "source": [
    "# hits = pd.concat([hits[hits.track>=0], hits[hits.track==-1].sample(frac=0.05)], ignore_index=True)\n",
    "# hits"
   ]
  },
  {
   "cell_type": "code",
   "execution_count": null,
   "id": "a0039f6d-fb7f-4ced-af6c-c592ccd8b8db",
   "metadata": {},
   "outputs": [],
   "source": [
    "config = {\n",
    "    'alpha': 1.5, # forks and joins\n",
    "    'beta': 0, # total activation\n",
    "    'bias': 0,  # activation bias, instead of total activation matrix\n",
    "    'cosine_power': 5,\n",
    "    'cosine_min_rewarded': 0.45,\n",
    "    'cosine_min_allowed': 0.45,\n",
    "    'distance_power': 0,\n",
    "    'gamma': 1,\n",
    "    'threshold': 0.5,  # activation threshold for segment classification\n",
    "    'tmax': 10,\n",
    "    'tmin': 0.5,\n",
    "    'starting_act': 0.2,\n",
    "    'anneal_steps': 200,\n",
    "    'total_steps': 1000,\n",
    "    'dropout': 0,\n",
    "    'learning_rate': 0.2\n",
    "}"
   ]
  },
  {
   "cell_type": "code",
   "execution_count": null,
   "id": "ed724dc2-28c1-48ad-a701-91db84c2ac9d",
   "metadata": {},
   "outputs": [],
   "source": [
    "pos = hits[['x', 'y', 'z']].values\n",
    "seg = gen_segments_all(hits)\n",
    "energy_matrix, crossing_part, curvature_part = construct_energy_matrix(config, pos, seg)\n",
    "temp_curve = construct_anneal(config)\n",
    "acts = hopfield_history(config, energy_matrix, temp_curve, seg)"
   ]
  },
  {
   "cell_type": "code",
   "execution_count": null,
   "id": "4c695403",
   "metadata": {},
   "outputs": [],
   "source": [
    "hits[hits.track==2]"
   ]
  },
  {
   "cell_type": "code",
   "execution_count": null,
   "id": "28e4bdfc-ab67-47f3-aea3-305e5719636a",
   "metadata": {},
   "outputs": [],
   "source": [
    "\n",
    "\n",
    "energy_history = pd.DataFrame({\n",
    "    'energy': [energy(energy_matrix, act) for act in acts],\n",
    "    'curvature_energy': [energy(curvature_part, act) for act in acts],\n",
    "    'crossing_energy': [energy(crossing_part, act) for act in acts]\n",
    "})\n",
    "energy_history.index.name = 'step'\n",
    "energy_history.energy = 1 + energy_history.energy - energy_history.energy.min()\n",
    "energy_history.plot(logy=True)\n",
    "plt.show()"
   ]
  },
  {
   "cell_type": "code",
   "execution_count": null,
   "id": "e8441470-381c-44c6-85ea-74331ff32696",
   "metadata": {},
   "outputs": [],
   "source": [
    "from sklearn.metrics import precision_score, recall_score, f1_score, roc_auc_score, average_precision_score\n",
    "from metrics.segments import gen_perfect_act\n",
    "perfect_act = gen_perfect_act(hits, seg)\n",
    "small_history = pd.DataFrame([\n",
    "    (\n",
    "        precision_score(perfect_act, act>config['threshold'], zero_division=0),\n",
    "        recall_score(perfect_act, act>config['threshold'], zero_division=0),\n",
    "        f1_score(perfect_act, act>config['threshold'], zero_division=0),\n",
    "        roc_auc_score(perfect_act, act),\n",
    "        average_precision_score(perfect_act, act),\n",
    "        act.mean(),\n",
    "        ((act - perfect_act) ** 2).mean()\n",
    "    ) for act in acts],\n",
    "    columns=['precision', 'recall', 'f1', 'roc_auc', 'ap', 'mean_act', 'dist_perfect'])\n",
    "small_history.index.name = 'step'\n",
    "small_history.plot()\n",
    "plt.show()"
   ]
  },
  {
   "cell_type": "code",
   "execution_count": null,
   "id": "7b408b57",
   "metadata": {},
   "outputs": [],
   "source": [
    "x = np.linspace(0, 0.05, 100)\n",
    "y = [recall_score(perfect_act, acts[-1]>th, zero_division=0) for th in x]\n",
    "plt.plot(x, y)\n",
    "plt.show()"
   ]
  },
  {
   "cell_type": "code",
   "execution_count": null,
   "id": "51779a6c",
   "metadata": {},
   "outputs": [],
   "source": [
    "x = np.linspace(0, 0.05, 100)\n",
    "y = [precision_score(perfect_act, acts[-1]>th, zero_division=0) for th in x]\n",
    "plt.plot(x, y)\n",
    "plt.show()"
   ]
  },
  {
   "cell_type": "code",
   "execution_count": null,
   "id": "e4767155",
   "metadata": {},
   "outputs": [],
   "source": [
    "x = np.linspace(0, 1, 500)\n",
    "y = [f1_score(perfect_act, acts[-1]>th, zero_division=0) for th in x]\n",
    "plt.plot(x, y)\n",
    "plt.show()"
   ]
  },
  {
   "cell_type": "code",
   "execution_count": null,
   "id": "fz6M9X3H-jBm",
   "metadata": {},
   "outputs": [],
   "source": [
    "from sklearn.metrics import precision_recall_curve, PrecisionRecallDisplay, average_precision_score\n",
    "act = acts[-1]\n",
    "average_precision = average_precision_score(perfect_act, act)\n",
    "precision, recall, _ = precision_recall_curve(perfect_act, act)\n",
    "PrecisionRecallDisplay(precision=precision, recall=recall, average_precision=average_precision, estimator_name='hopfield').plot()\n",
    "plt.show()"
   ]
  },
  {
   "cell_type": "code",
   "execution_count": null,
   "id": "i6XG18fk-1DV",
   "metadata": {},
   "outputs": [],
   "source": [
    "from sklearn.metrics import roc_curve, RocCurveDisplay\n",
    "fpr, tpr, _ = roc_curve(perfect_act, act)\n",
    "RocCurveDisplay(fpr=fpr, tpr=tpr, roc_auc=roc_auc_score(perfect_act, act), estimator_name='hopfield').plot()\n",
    "plt.show()"
   ]
  },
  {
   "cell_type": "code",
   "execution_count": null,
   "id": "w6LdIfRl_Hzu",
   "metadata": {},
   "outputs": [],
   "source": [
    "from sklearn.metrics import det_curve, DetCurveDisplay\n",
    "fpr, fnr, _ = det_curve(perfect_act, act)\n",
    "DetCurveDisplay(fpr=fpr, fnr=fnr).plot()\n",
    "plt.show()"
   ]
  },
  {
   "cell_type": "code",
   "execution_count": null,
   "id": "80d4b17d-41ae-41a1-984e-1705bc622b1b",
   "metadata": {},
   "outputs": [],
   "source": [
    "n_steps = min(16, len(acts))\n",
    "steps = np.linspace(0, len(acts)-1, n_steps, dtype=int)\n",
    "\n",
    "tracks_3d = []\n",
    "tracks_projection = []\n",
    "tracks_by_track = []\n",
    "for i in steps:\n",
    "    tp, fp, tn, fn = make_tracks_3d(pos, seg, acts[i], perfect_act, config['threshold'])\n",
    "    vdims = ['act', 'perfect_act', 'positive', 'true']\n",
    "    xyz = hv.Overlay([\n",
    "        hv.Scatter3D(hits[hits.track == -1], kdims=['x', 'y', 'z'], vdims=['track', 'layer'], label='noise', group='hits'),\n",
    "        hv.Scatter3D(hits[hits.track != -1], kdims=['x', 'y', 'z'], vdims=['track', 'layer'], label='hits', group='hits'),\n",
    "        hv.Path3D(tp, vdims=vdims, label='tp', group='tracks'),\n",
    "        hv.Path3D(fp, vdims=vdims, label='fp', group='tracks'),\n",
    "        hv.Path3D(fn, vdims=vdims, label='fn', group='tracks')\n",
    "    ])\n",
    "    tracks_3d.append(xyz)\n",
    "\n",
    "    projection = hv.Points(hits[hits.track != -1], kdims=['x', 'y'], vdims=['track', 'layer'], label='hits', group='hits') * \\\n",
    "                 hv.Points(hits[hits.track == -1], kdims=['x', 'y'], vdims=['track', 'layer'], label='noise', group='hits') * \\\n",
    "                 hv.Path(tp, kdims=['x', 'y'], vdims=vdims, label='tp', group='tracks') * \\\n",
    "                 hv.Path(fp, kdims=['x', 'y'], vdims=vdims, label='fp', group='tracks') * \\\n",
    "                 hv.Path(fn, kdims=['x', 'y'], vdims=vdims, label='fn', group='tracks')\n",
    "    tracks_projection.append(projection)\n",
    "\n",
    "    nodes = hv.Nodes(hits, kdims=['track', 'layer', 'index'])\n",
    "    no_tn = np.logical_or(acts[i] > config['threshold'], perfect_act > config['threshold'])\n",
    "    graph = hv.Graph(((*seg[no_tn].transpose(), acts[i][no_tn], perfect_act[no_tn]), nodes), vdims=['act', 'perfect_act'])\n",
    "    tracks_by_track.append(hv.Overlay([graph]))\n"
   ]
  },
  {
   "cell_type": "code",
   "execution_count": null,
   "id": "15b8708f-e351-4d1b-a687-5e3c769d0168",
   "metadata": {},
   "outputs": [],
   "source": [
    "hv.extension('matplotlib')\n",
    "tracks_3d[-1].opts(\n",
    "    opts.Scatter3D(c='black'),\n",
    "    opts.Scatter3D('Hits.Noise', c='brown'),\n",
    "    opts.Path3D(color='black', show_legend=True),\n",
    "    opts.Path3D('Tracks.fp', color='red'),\n",
    "    opts.Path3D('Tracks.fn', color='cyan'),\n",
    "    opts.Overlay(legend_position='right', fig_size=400),\n",
    ")"
   ]
  },
  {
   "cell_type": "code",
   "execution_count": null,
   "id": "08a10c77-d6aa-4973-b9aa-666396e22f2f",
   "metadata": {},
   "outputs": [],
   "source": [
    "hv.extension('bokeh')\n",
    "track_history = hv.HoloMap(\n",
    "     {s: hv.Histogram(np.histogram(acts[s], bins=32, range=(0,1))) for s in np.linspace(0, len(acts)-1, min(32, len(acts)), dtype=int)},\n",
    "     kdims='step', group=\"Activation\", label=\"All\") + \\\n",
    "hv.HoloMap(\n",
    "    {s: hv.Histogram(np.histogram(acts[s][perfect_act>config['threshold']], bins=32, range=(0,1))) for s in np.linspace(0, len(acts)-1, min(32, len(acts)), dtype=int)},\n",
    "    kdims='step', group=\"Activation\", label=\"On track\") + \\\n",
    "hv.HoloMap(\n",
    "    {s: hv.Histogram(np.histogram(acts[s][perfect_act<config['threshold']], bins=32, range=(0,1))) for s in np.linspace(0, len(acts)-1, min(32, len(acts)), dtype=int)},\n",
    "    kdims='step', group=\"Activation\", label=\"Off track\")\n",
    "\n",
    "track_history.opts(\n",
    "    opts.Histogram(width=400, height=400)\n",
    ")"
   ]
  },
  {
   "cell_type": "code",
   "execution_count": null,
   "id": "cfc3d7ed-3d21-43c1-b111-2db556034ad4",
   "metadata": {},
   "outputs": [],
   "source": [
    "hv.extension('plotly')\n",
    "tracks_3d[-1].opts(\n",
    "    opts.Scatter3D(size=2, color='black'),\n",
    "    opts.Scatter3D('Hits.Noise', color='brown'),\n",
    "    opts.Path3D(color='black'),\n",
    "    opts.Path3D('Tracks.fp', color='red'),\n",
    "    opts.Path3D('Tracks.fn', color='cyan'),\n",
    "    opts.Overlay(width=800, height=800)\n",
    ")"
   ]
  },
  {
   "cell_type": "code",
   "execution_count": null,
   "id": "d0ffcd3d-6bf9-4379-8a99-394191ed39f3",
   "metadata": {},
   "outputs": [],
   "source": [
    "hv.extension('matplotlib')\n",
    "track_history = hv.NdLayout(\n",
    "    {s: tracks_3d[i] for i, s in enumerate(steps)},\n",
    "    kdims='step'\n",
    ")\n",
    "track_history.opts(\n",
    "    opts.Scatter3D(c='black'),\n",
    "    opts.Scatter3D('Hits.Noise', c='brown'),\n",
    "    opts.Path3D(color='black', show_legend=True),\n",
    "    opts.Path3D('Tracks.fp', color='red'),\n",
    "    opts.Path3D('Tracks.fn', color='cyan'),\n",
    "    opts.Overlay(legend_position='right'),\n",
    "    opts.NdLayout(fig_size=200)\n",
    ").cols(4)"
   ]
  },
  {
   "cell_type": "code",
   "execution_count": null,
   "id": "e79b48dd-1e81-48d9-85f6-a94586c6454a",
   "metadata": {},
   "outputs": [],
   "source": [
    "hv.extension('plotly')\n",
    "track_history = hv.HoloMap(\n",
    "    {s: tracks_3d[i] for i, s in enumerate(steps)},\n",
    "    kdims='step'\n",
    ")\n",
    "track_history.opts(\n",
    "    opts.Scatter3D(size=2, color='black'),\n",
    "    opts.Scatter3D('Hits.Noise', color='brown'),\n",
    "    opts.Path3D(color='black'),\n",
    "    opts.Path3D('Tracks.fp', color='red'),\n",
    "    opts.Path3D('Tracks.fn', color='cyan'),\n",
    "    opts.Overlay(width=700, height=700)\n",
    ")\n",
    "hv.save(track_history, 'track_history_3d.html', fmt='widgets')"
   ]
  },
  {
   "cell_type": "code",
   "execution_count": null,
   "id": "8f0211c6-8ad1-4b1f-baec-d417baf8c65e",
   "metadata": {},
   "outputs": [],
   "source": [
    "hv.extension('matplotlib')\n",
    "track_history = hv.HoloMap(\n",
    "    {s: tracks_projection[i] for i, s in enumerate(steps)},\n",
    "    kdims='step'\n",
    ")\n",
    "track_history.opts(\n",
    "    opts.Points(color='black'),\n",
    "    opts.Points('Hits.Noise', color='brown'),\n",
    "    opts.Path(color='black', show_legend=True),\n",
    "    opts.Path('Tracks.fp', color='red'),\n",
    "    opts.Path('Tracks.fn', color='cyan'),\n",
    "    opts.Overlay(legend_position='right', fig_size=256),\n",
    ")"
   ]
  },
  {
   "cell_type": "code",
   "execution_count": null,
   "id": "c8cffd16-50cf-4faa-bd38-0e9eda1f4006",
   "metadata": {},
   "outputs": [],
   "source": [
    "hv.extension('bokeh')\n",
    "track_history = hv.HoloMap(\n",
    "    {s: tracks_projection[i] for i, s in enumerate(steps)},\n",
    "    kdims='step'\n",
    ")\n",
    "track_history.opts(\n",
    "    opts.Points(color='black', tools=['hover'], size=4),\n",
    "    opts.Points('Hits.Noise', tools=['hover'], color='brown'),\n",
    "    opts.Path(color='black', show_legend=True),\n",
    "    opts.Path('Tracks.fp', color='red'),\n",
    "    opts.Path('Tracks.fn', color='cyan'),\n",
    "    opts.Overlay(legend_position='right', width=700, height=700)\n",
    ")\n"
   ]
  },
  {
   "cell_type": "code",
   "execution_count": null,
   "id": "1168ed5b",
   "metadata": {},
   "outputs": [],
   "source": [
    "hits[hits.track==28]"
   ]
  },
  {
   "cell_type": "code",
   "execution_count": null,
   "id": "9a9b0b97-09f2-41e7-924a-8c59e293c41c",
   "metadata": {},
   "outputs": [],
   "source": [
    "hv.extension('bokeh')\n",
    "track_history = hv.NdLayout(\n",
    "    {s: tracks_by_track[i] for i, s in enumerate(steps)},\n",
    "    kdims='step'\n",
    ")\n",
    "track_history.opts(\n",
    "    opts.Graph(node_size=8, edge_color='act', colorbar=True),\n",
    "    opts.EdgePaths(colorbar=True)\n",
    ").cols(5)"
   ]
  }
 ],
 "metadata": {
  "colab": {
   "collapsed_sections": [],
   "name": " \"AOC_hopfield-tracking-bmn-event6-from-git\"",
   "provenance": []
  },
  "kernelspec": {
   "display_name": "Python 3",
   "language": "python",
   "name": "python3"
  },
  "language_info": {
   "codemirror_mode": {
    "name": "ipython",
    "version": 3
   },
   "file_extension": ".py",
   "mimetype": "text/x-python",
   "name": "python",
   "nbconvert_exporter": "python",
   "pygments_lexer": "ipython3"
  }
 },
 "nbformat": 4,
 "nbformat_minor": 5
}
