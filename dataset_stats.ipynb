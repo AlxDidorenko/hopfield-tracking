{
 "cells": [
  {
   "cell_type": "code",
   "execution_count": null,
   "id": "9128cccd",
   "metadata": {},
   "outputs": [],
   "source": [
    "from functools import partial\n",
    "\n",
    "import numpy as np\n",
    "import pandas as pd\n",
    "import seaborn as sns\n",
    "from datasets import get_hits\n",
    "\n",
    "data = []\n",
    "for dataset, kwargs in [('simple', {'n_events':1000, 'event_size':100}),\n",
    "                        ('bman', {}), ('spdsim', {'n_events':1000, 'event_size':100}),\n",
    "                        ('trackml', {}), ('trackml_volume', {})]:\n",
    "    hits = get_hits(dataset, **kwargs)\n",
    "    stat = hits.groupby('event_id').track.aggregate(['size', 'nunique']).rename(columns={'size': 'hits', 'nunique': 'tracks'}).reset_index()\n",
    "    del hits\n",
    "    stat['dataset'] = dataset\n",
    "    data.append(stat)\n",
    "stats = pd.concat(data)"
   ]
  },
  {
   "cell_type": "code",
   "execution_count": null,
   "id": "fbf3f562-e2d5-4890-bf9b-f6647da6ec3f",
   "metadata": {},
   "outputs": [],
   "source": [
    "stats.hist('tracks', by='dataset', layout=(2, 3), figsize=(32, 8))"
   ]
  },
  {
   "cell_type": "code",
   "execution_count": null,
   "id": "a4520392-05db-4349-ae08-77195e43b210",
   "metadata": {},
   "outputs": [],
   "source": [
    "stats.hist('hits', by='dataset', layout=(2, 3), figsize=(32, 8), log=True)"
   ]
  },
  {
   "cell_type": "code",
   "execution_count": null,
   "id": "c0ee9969",
   "metadata": {},
   "outputs": [],
   "source": [
    "for dataset, g in stats.groupby('dataset'):\n",
    "    g.plot.hexbin('hits', 'tracks', title=dataset, subplots=True, bins='log', xscale='log', figsize=(16, 10), sharex=False)"
   ]
  },
  {
   "cell_type": "code",
   "execution_count": null,
   "id": "b9389db3",
   "metadata": {},
   "outputs": [],
   "source": [
    "for dataset, g in stats.groupby('dataset'):\n",
    "    g.plot.hexbin('hits', 'tracks', title=dataset, gridsize=32, bins='log', xscale='log', figsize=(16, 10), sharex=False)"
   ]
  },
  {
   "cell_type": "code",
   "execution_count": null,
   "id": "dd77e584",
   "metadata": {},
   "outputs": [],
   "source": [
    "for dataset, g in stats.groupby('dataset'):\n",
    "    g.plot.hexbin('hits', 'tracks', title=dataset, gridsize=32, bins='log', figsize=(16, 10), sharex=False)"
   ]
  }
 ],
 "metadata": {
  "kernelspec": {
   "display_name": "Python 3.10 (hopfield-tracking)",
   "language": "python",
   "name": "hopfield-tracking"
  },
  "language_info": {
   "codemirror_mode": {
    "name": "ipython",
    "version": 3
   },
   "file_extension": ".py",
   "mimetype": "text/x-python",
   "name": "python",
   "nbconvert_exporter": "python",
   "pygments_lexer": "ipython3"
  }
 },
 "nbformat": 4,
 "nbformat_minor": 5
}
