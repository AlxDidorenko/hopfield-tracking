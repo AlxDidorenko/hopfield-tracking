{
 "cells": [
  {
   "cell_type": "markdown",
   "id": "3a191183-6d2f-40f8-8bce-7b742adab6c2",
   "metadata": {},
   "source": [
    "# Visualize the distribution of segment lengths\n",
    "- for each dataset\n",
    "- radius bins in linear and log scale \n",
    "- segment in bin counts in linear and log scale\n",
    "- show cumulative proportion of segments *longer* than R, to estimate optimal cut-off radius.\n",
    "    - That is, the neighbor search distance for initial segment candidate generation."
   ]
  },
  {
   "cell_type": "code",
   "execution_count": null,
   "id": "6c55a37a-0379-489b-84cb-59b219879915",
   "metadata": {},
   "outputs": [],
   "source": [
    "import numpy as np\n",
    "import pandas as pd\n",
    "from matplotlib import pyplot as plt\n",
    "import seaborn as sns\n",
    "from datasets import get_hits\n",
    "from tracking.segment import gen_seg_track_sequential"
   ]
  },
  {
   "cell_type": "code",
   "execution_count": null,
   "id": "5d18a6c1-0ab7-4431-9368-b8aeccd28799",
   "metadata": {},
   "outputs": [],
   "source": [
    "def plot_seg_len_stats(hits, segmentation=gen_seg_track_sequential, figsize=(24, 12)):\n",
    "    seg = np.concatenate(hits.groupby('event_id').apply(segmentation))\n",
    "    starts = hits.loc[seg[:, 0], ['x', 'y', 'z']].to_numpy()\n",
    "    ends = hits.loc[seg[:, 1], ['x', 'y', 'z']].to_numpy()\n",
    "    r = np.linalg.norm(ends - starts, axis=1)\n",
    "    fig, ax = plt.subplots(3, 4, figsize=figsize)\n",
    "    sns.histplot(x=r, log_scale=(True, True), ax=ax[0, 0])\n",
    "    sns.histplot(x=r, log_scale=(True, False), ax=ax[0, 1])\n",
    "    sns.histplot(x=r, log_scale=(False, True), ax=ax[0, 2])\n",
    "    sns.histplot(x=r, log_scale=(False, False), ax=ax[0, 3])\n",
    "    sns.histplot(x=r, log_scale=(True, True), ax=ax[1, 0], cumulative=True, stat='proportion')\n",
    "    sns.histplot(x=r, log_scale=(True, False), ax=ax[1, 1], cumulative=True, stat='proportion')\n",
    "    sns.histplot(x=r, log_scale=(False, True), ax=ax[1, 2], cumulative=True, stat='proportion')\n",
    "    sns.histplot(x=r, log_scale=(False, False), ax=ax[1, 3], cumulative=True, stat='proportion')\n",
    "    ax[2, 0].hist(r, log=True, bins=np.geomspace(min(r), max(r), 32), cumulative=-1, density=True)\n",
    "    ax[2, 0].set_xscale('log')\n",
    "    ax[2, 1].hist(r, log=False, bins=np.geomspace(min(r), max(r), 32), cumulative=-1, density=True)\n",
    "    ax[2, 1].set_xscale('log')\n",
    "    ax[2, 2].hist(r, log=True, bins=32, cumulative=-1, density=True)\n",
    "    ax[2, 3].hist(r, log=False, bins=32, cumulative=-1, density=True)\n"
   ]
  },
  {
   "cell_type": "code",
   "execution_count": null,
   "id": "7c001271-b533-431e-9d06-3c0dd5eba524",
   "metadata": {},
   "outputs": [],
   "source": [
    "plot_seg_len_stats(get_hits('simple', 512))"
   ]
  },
  {
   "cell_type": "code",
   "execution_count": null,
   "id": "0f572f4a-f7ed-4666-92a1-ae349891b550",
   "metadata": {},
   "outputs": [],
   "source": [
    "plot_seg_len_stats(get_hits('spdsim', 512))"
   ]
  },
  {
   "cell_type": "code",
   "execution_count": null,
   "id": "b1653b75-a60c-4347-afc4-7951e9236fd7",
   "metadata": {},
   "outputs": [],
   "source": [
    "plot_seg_len_stats(get_hits('bman'))"
   ]
  },
  {
   "cell_type": "code",
   "execution_count": null,
   "id": "17df901a-f601-4b47-a8b2-5812cd1fc209",
   "metadata": {},
   "outputs": [],
   "source": [
    "plot_seg_len_stats(get_hits('trackml_volume'))"
   ]
  },
  {
   "cell_type": "code",
   "execution_count": null,
   "id": "d37851b5-0cea-45fc-bbb6-46d65b362844",
   "metadata": {},
   "outputs": [],
   "source": [
    "plot_seg_len_stats(get_hits('trackml'))"
   ]
  }
 ],
 "metadata": {
  "kernelspec": {
   "display_name": "Python 3 (ipykernel)",
   "language": "python",
   "name": "python3"
  },
  "language_info": {
   "codemirror_mode": {
    "name": "ipython",
    "version": 3
   },
   "file_extension": ".py",
   "mimetype": "text/x-python",
   "name": "python",
   "nbconvert_exporter": "python",
   "pygments_lexer": "ipython3"
  }
 },
 "nbformat": 4,
 "nbformat_minor": 5
}
